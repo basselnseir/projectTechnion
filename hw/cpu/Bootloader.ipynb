{
 "cells": [
  {
   "cell_type": "code",
   "execution_count": 2,
   "id": "a3d087d6-8b32-4d1f-b0d8-d1627e5997f1",
   "metadata": {
    "tags": []
   },
   "outputs": [],
   "source": [
    "#import cpu_assignment\n",
    "#from cpu_assignment import *\n",
    "from instruction_set import *\n",
    "import periph\n",
    "from periph import gpio_adapter"
   ]
  },
  {
   "cell_type": "code",
   "execution_count": 3,
   "id": "15ca6604-67c3-481f-9373-3c8038e53029",
   "metadata": {},
   "outputs": [],
   "source": [
    "BOOTLOADER_BLOCKS = ['_loop',\n",
    "                    (PUSH, 0xc000),\n",
    "                    (POP, 1),\n",
    "                    LOAD,\n",
    "                    (PUSH, 0xffff),\n",
    "                    (DUP, 1),\n",
    "                    (POP, 2),\n",
    "                    (ALU, AOP.SUB),\n",
    "                    (POP, 1),\n",
    "                    (JZ, '_end'),\n",
    "                    (PUSH, 0Xc001),\n",
    "                    (POP, 1),\n",
    "                    LOAD,\n",
    "                    (DUP, 0),\n",
    "                    (PUSH, 0xc003),\n",
    "                    (POP, 2),\n",
    "                    STOR,\n",
    "                     (DUP, 0),\n",
    "                     (PUSH, 1),\n",
    "                     (POP, 2),\n",
    "                     (ALU, AOP.SUB),\n",
    "                     (PUSH, 0x5400),\n",
    "                     (POP, 2),\n",
    "                     (ALU, AOP.ADD),\n",
    "                     (PUSH, 2),\n",
    "                     (POP, 2),\n",
    "                     (ALU, AOP.MUL),\n",
    "                     (DUP, 2),\n",
    "                     (DUP, 1),\n",
    "                     (POP, 2),\n",
    "                     STOR,\n",
    "                     (PUSH, 1),\n",
    "                     (POP, 2),\n",
    "                     (ALU, AOP.ADD),\n",
    "                     (POP, 2),\n",
    "                     STOR, \n",
    "                     (POP, 1),\n",
    "                    (JMP, '_loop'),\n",
    "                    '_end',\n",
    "                     (POP, 1),\n",
    "                     (PUSH, 0x5400),\n",
    "                     (POP, 1),\n",
    "                     (RET, 0)\n",
    "                    ]       "
   ]
  },
  {
   "cell_type": "code",
   "execution_count": null,
   "id": "aae2f084-5e17-4e35-84b9-6ef12fcaf86f",
   "metadata": {},
   "outputs": [],
   "source": []
  },
  {
   "cell_type": "code",
   "execution_count": null,
   "id": "48f7fc85-6f37-4b6a-a13e-370d655c39e1",
   "metadata": {},
   "outputs": [],
   "source": []
  }
 ],
 "metadata": {
  "kernelspec": {
   "display_name": "Python 3 (ipykernel)",
   "language": "python",
   "name": "python3"
  },
  "language_info": {
   "codemirror_mode": {
    "name": "ipython",
    "version": 3
   },
   "file_extension": ".py",
   "mimetype": "text/x-python",
   "name": "python",
   "nbconvert_exporter": "python",
   "pygments_lexer": "ipython3",
   "version": "3.10.6"
  }
 },
 "nbformat": 4,
 "nbformat_minor": 5
}
