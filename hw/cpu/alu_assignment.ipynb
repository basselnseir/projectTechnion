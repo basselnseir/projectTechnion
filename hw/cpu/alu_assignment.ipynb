{
 "cells": [
  {
   "cell_type": "code",
   "execution_count": 1,
   "id": "87e0dafb-6044-4811-9805-a82095f36841",
   "metadata": {
    "tags": []
   },
   "outputs": [],
   "source": [
    "import pyrtl\n",
    "\n",
    "def add_regs(wire1,wire2):\n",
    "    if(wire1.bitwidth != wire2.bitwidth):\n",
    "        return\n",
    "    else:\n",
    "        wire_length = wire1.bitwidth\n",
    "        sum_wire = pyrtl.WireVector(wire_length) \n",
    "        sum_wire = wire1 + wire2\n",
    "        sum_wire = sum_wire[0:wire_length]\n",
    "        return sum_wire\n",
    "      "
   ]
  },
  {
   "cell_type": "code",
   "execution_count": 2,
   "id": "66c2b286-0d41-4180-8a6c-f5e19152882b",
   "metadata": {
    "tags": []
   },
   "outputs": [],
   "source": [
    "import pyrtl\n",
    "\n",
    "def sub_regs(wire1,wire2):\n",
    "    if(wire1.bitwidth != wire2.bitwidth):\n",
    "        return\n",
    "    else:\n",
    "        wire_length = wire1.bitwidth\n",
    "        sub_wire = pyrtl.WireVector(wire_length) \n",
    "        sub_wire = wire1 - wire2\n",
    "        sub_wire = sub_wire[0:wire_length]\n",
    "        return sub_wire\n",
    "      "
   ]
  },
  {
   "cell_type": "code",
   "execution_count": 3,
   "id": "26a174b8-f9c4-4f16-91fc-3e5d6b5c9cd4",
   "metadata": {
    "tags": []
   },
   "outputs": [],
   "source": [
    "import pyrtl\n",
    "\n",
    "def neg_wire(wire):\n",
    "    wire_length = wire.bitwidth\n",
    "    neg_wire = pyrtl.WireVector(wire_length)\n",
    "    zero_const = pyrtl.Const(0, bitwidth=wire_length)\n",
    "    zero_wire = pyrtl.WireVecotr(wire_length)\n",
    "    zero_wire |= zero_const\n",
    "    neg_wire = zero_wire - wire\n",
    "    neg_wire = neg_wire[0:wire_length]\n",
    "    return neg_wire"
   ]
  },
  {
   "cell_type": "code",
   "execution_count": 4,
   "id": "df694b24-931b-4b13-a3ac-dacee781078c",
   "metadata": {
    "tags": []
   },
   "outputs": [],
   "source": [
    "import pyrtl\n",
    "\n",
    "def mul_regs(wire1,wire2):\n",
    "    if(wire1.bitwidth != wire2.bitwidth):\n",
    "        return\n",
    "    else:\n",
    "        wire_length = wire1.bitwidth\n",
    "        mul_wire = pyrtl.WireVector(wire_length) \n",
    "        mul_wire = wire1 * wire2\n",
    "        mul_wire = sub_wire[0:wire_length]\n",
    "        return mul_wire\n",
    "      "
   ]
  },
  {
   "cell_type": "code",
   "execution_count": 5,
   "id": "ff7ae29e-5d91-432c-94d8-6bda1757ffd5",
   "metadata": {
    "tags": []
   },
   "outputs": [],
   "source": [
    "import pyrtl\n",
    "\n",
    "def and_regs(wire1,wire2):\n",
    "    if(wire1.bitwidth != wire2.bitwidth):\n",
    "        return\n",
    "    else:\n",
    "        wire_length = wire1.bitwidth\n",
    "        and_wire = pyrtl.WireVector(wire_length) \n",
    "        and_wire = wire1 & wire2\n",
    "        and_wire = sub_wire[0:wire_length]\n",
    "        return and_wire\n",
    "      "
   ]
  },
  {
   "cell_type": "code",
   "execution_count": 6,
   "id": "966c43af-dc49-47d3-bd77-a7ef149ff6bc",
   "metadata": {
    "tags": []
   },
   "outputs": [],
   "source": [
    "import pyrtl\n",
    "\n",
    "def or_regs(wire1,wire2):\n",
    "    if(wire1.bitwidth != wire2.bitwidth):\n",
    "        return\n",
    "    else:\n",
    "        wire_length = wire1.bitwidth\n",
    "        or_wire = pyrtl.WireVector(wire_length) \n",
    "        or_wire = wire1 | wire2\n",
    "        or_wire = sub_wire[0:wire_length]\n",
    "        return or_wire"
   ]
  },
  {
   "cell_type": "code",
   "execution_count": 7,
   "id": "75f48ea6-8b3b-4c26-9658-7d4b4b116342",
   "metadata": {
    "tags": []
   },
   "outputs": [],
   "source": [
    "import pyrtl\n",
    "\n",
    "def not_reg(wire):\n",
    "        wire_length = wire.bitwidth\n",
    "        not_wire = pyrtl.WireVector(wire_length) \n",
    "        not_wire = ~wire\n",
    "        return not_wire"
   ]
  },
  {
   "cell_type": "code",
   "execution_count": 8,
   "id": "2089695f-795b-4ac6-bbc6-db86b0d4f021",
   "metadata": {
    "tags": []
   },
   "outputs": [],
   "source": [
    "import pyrtl\n",
    "\n",
    "def LT_regs(wire1,wire2):\n",
    "    if(wire1.bitwidth != wire2.bitwidth):\n",
    "        return\n",
    "    else:\n",
    "        wire_length = wire1.bitwidth\n",
    "        LT_wire = pyrtl.WireVector(wire_length) \n",
    "        LT_wire = wire1 < wire2\n",
    "        return LT_wire"
   ]
  },
  {
   "cell_type": "code",
   "execution_count": 9,
   "id": "cd24c26b-1e30-4479-9e9d-1ab67624d611",
   "metadata": {
    "tags": []
   },
   "outputs": [],
   "source": [
    "import pyrtl\n",
    "\n",
    "def shiftLeft_wire(wire):\n",
    "    wire_length = wire.bitwidth\n",
    "    shifted_wire = pyrtl.WireVector(wire_length)\n",
    "    shifted_Wire = pyrtl.concat(pyrtl.Const(0, bitwidth=1), wire)\n",
    "    shifted_Wire = shifted_Wire[0:wire_length]\n",
    "    return shifted_Wire"
   ]
  },
  {
   "cell_type": "code",
   "execution_count": 10,
   "id": "520b2d38-74d2-48e1-a3cb-cbaf96c93c43",
   "metadata": {
    "tags": []
   },
   "outputs": [],
   "source": [
    "import pyrtl\n",
    "\n",
    "def shiftRight_wire(wire):\n",
    "    wire_length = wire.bitwidth\n",
    "    shifted_wire = pyrtl.WireVector(wire_length)\n",
    "    shifted_Wire = pyrtl.concat(wire, pyrtl.Const(0, bitwidth=1))\n",
    "    shifted_Wire = shifted_Wire[0:wire_length]\n",
    "    return shifted_Wire"
   ]
  },
  {
   "cell_type": "code",
   "execution_count": 11,
   "id": "05c2154c-8621-4004-810a-39e306a81ac4",
   "metadata": {
    "tags": []
   },
   "outputs": [],
   "source": [
    "from instruction_set import AOP\n",
    "\n",
    "def AlU_function(reg1, reg2, op):\n",
    "    wire1 = pyrtl.WireVector(reg1.bitwidth)\n",
    "    wire2 = pyrtl.WireVector(reg2.bitwidth)\n",
    "    wire1 <<= reg1\n",
    "    wire2 <<= reg2\n",
    "    result = pyrtl.WireVector(reg1.bitwidth)\n",
    "    if(op == AOP.ADD):\n",
    "        result <<= add_regs(wire1, wire2)\n",
    "    elif(op == AOP.SUB):\n",
    "        result <<= sub_regs(wire1, wire2)\n",
    "    elif(op == AOP.MUL):\n",
    "        result <<= mul_regs(wire1, wire2)\n",
    "    elif(op == AOP.SHL):\n",
    "        result <<= shiftLeft_wire(wire1)\n",
    "    elif(op == AOP.SHR):\n",
    "        result <<= shiftRight_wire(wire1)\n",
    "    elif(op == AOP.NEG):\n",
    "        result <<= neg_wire(wire1)\n",
    "    elif(op == AOP.AND):\n",
    "        result <<= and_regs(wire1, wire2)\n",
    "    elif(op == AOP.OR):\n",
    "        result <<= or_regs(wire1, wire2)\n",
    "    elif(op == AOP.NOT):\n",
    "        result <<= not_regs(wire1)\n",
    "    elif(op == AOP.LT):\n",
    "        result <<= LT_regs(wire1)\n",
    "    return result\n",
    "    \n",
    "        "
   ]
  },
  {
   "cell_type": "code",
   "execution_count": null,
   "id": "4dacaaca-dfdb-454c-8837-ca4679d45b4c",
   "metadata": {},
   "outputs": [],
   "source": []
  },
  {
   "cell_type": "code",
   "execution_count": null,
   "id": "e49695bf-d938-4dfa-853d-480e95e3b7c4",
   "metadata": {},
   "outputs": [],
   "source": []
  }
 ],
 "metadata": {
  "kernelspec": {
   "display_name": "Python 3 (ipykernel)",
   "language": "python",
   "name": "python3"
  },
  "language_info": {
   "codemirror_mode": {
    "name": "ipython",
    "version": 3
   },
   "file_extension": ".py",
   "mimetype": "text/x-python",
   "name": "python",
   "nbconvert_exporter": "python",
   "pygments_lexer": "ipython3",
   "version": "3.10.6"
  }
 },
 "nbformat": 4,
 "nbformat_minor": 5
}
