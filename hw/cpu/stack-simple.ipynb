{
 "cells": [
  {
   "cell_type": "code",
   "execution_count": 1,
   "id": "d1a7a4ca-1a33-4594-9518-892deb8818f9",
   "metadata": {
    "tags": []
   },
   "outputs": [
    {
     "data": {
      "text/html": [
       "<script src=\"https://unpkg.com/jquery@3.3.1/dist/jquery.js\"></script>"
      ],
      "text/plain": [
       "<IPython.core.display.HTML object>"
      ]
     },
     "metadata": {},
     "output_type": "display_data"
    }
   ],
   "source": [
    "import sys\n",
    "sys.path.append(\"../base\")\n",
    "\n",
    "import boilerplate\n",
    "from pyrtl import *\n",
    "\n",
    "import z3\n",
    "z3.set_param(proof=True)"
   ]
  },
  {
   "cell_type": "code",
   "execution_count": 2,
   "id": "36bda904-8e4a-4759-9c73-8f7711b0763d",
   "metadata": {
    "tags": []
   },
   "outputs": [],
   "source": [
    "reset_working_block()\n",
    "\n",
    "pc = Register(name='pc', bitwidth=4)\n",
    "sp = Register(name='sp', bitwidth=4)\n",
    "mem = MemBlock(name='mem', bitwidth=4, addrwidth=4)\n",
    "rom = RomBlock(name='rom', bitwidth=5, addrwidth=4, romdata=[0x15, 0x18, 0, 0xf])\n",
    "\n",
    "out = Output(name='out', bitwidth=4)"
   ]
  },
  {
   "cell_type": "code",
   "execution_count": 3,
   "id": "b5f1e778-7f29-4af9-b19e-812c77dce7d3",
   "metadata": {
    "tags": []
   },
   "outputs": [],
   "source": [
    "instr = rom[pc]\n",
    "out <<= mem[sp]\n",
    "\n",
    "with conditional_assignment:\n",
    "    with instr[4] == 1:   # PUSH\n",
    "        mem[sp] |= instr[0:4]\n",
    "        sp.next |= sp + 1\n",
    "        pc.next |= pc + 1\n",
    "    with instr == 0:      # POP\n",
    "        sp.next |= sp - 1\n",
    "        pc.next |= pc + 1"
   ]
  },
  {
   "cell_type": "code",
   "execution_count": 4,
   "id": "eae432cf-1399-441e-85e7-5b5d0e83146c",
   "metadata": {
    "tags": []
   },
   "outputs": [],
   "source": [
    "sim = Simulation()\n",
    "for i in range(10):\n",
    "    sim.step({})"
   ]
  },
  {
   "cell_type": "code",
   "execution_count": 5,
   "id": "0b3cd9ea-71fc-4c2e-b113-b0c4cce43520",
   "metadata": {
    "tags": []
   },
   "outputs": [
    {
     "data": {
      "text/html": [
       "<script type=\"WaveDrom\">\n",
       "{\n",
       "  signal : [\n",
       "    { name: \"out\",  wave: \"=..=......\", data: [\"0x0\", \"0x8\"] },\n",
       "    { name: \"pc\",  wave: \"====......\", data: [\"0x0\", \"0x1\", \"0x2\", \"0x3\"] },\n",
       "    { name: \"sp\",  wave: \"====......\", data: [\"0x0\", \"0x1\", \"0x2\", \"0x1\"] },\n",
       "  ],\n",
       "  config: { hscale: 1 }\n",
       "}\n",
       "</script>\n"
      ],
      "text/plain": [
       "<IPython.core.display.HTML object>"
      ]
     },
     "metadata": {},
     "output_type": "display_data"
    },
    {
     "data": {
      "application/javascript": [
       "\n",
       "            $.when(\n",
       "            $.getScript(\"https://cdnjs.cloudflare.com/ajax/libs/wavedrom/1.6.2/skins/default.js\"),\n",
       "            $.getScript(\"https://cdnjs.cloudflare.com/ajax/libs/wavedrom/1.6.2/wavedrom.min.js\"),\n",
       "            $.Deferred(function( deferred ){\n",
       "                $( deferred.resolve );\n",
       "            })).done(function(){\n",
       "                WaveDrom.ProcessAll();\n",
       "            });"
      ],
      "text/plain": [
       "<IPython.core.display.Javascript object>"
      ]
     },
     "metadata": {},
     "output_type": "display_data"
    }
   ],
   "source": [
    "sim.tracer.render_trace()"
   ]
  },
  {
   "cell_type": "code",
   "execution_count": 6,
   "id": "3c60d8f1-b30e-4662-bcfb-950159b103f5",
   "metadata": {
    "tags": []
   },
   "outputs": [
    {
     "name": "stdout",
     "output_type": "stream",
     "text": [
      "--- Values in base 10 ---\n",
      "out 0 0 0 8 8 8 8 8 8 8\n",
      "pc  0 1 2 3 3 3 3 3 3 3\n",
      "sp  0 1 2 1 1 1 1 1 1 1\n"
     ]
    }
   ],
   "source": [
    "sim.tracer.print_trace()"
   ]
  },
  {
   "cell_type": "code",
   "execution_count": 7,
   "id": "aeda9d3b-9655-444b-8a77-6c918bdd738b",
   "metadata": {
    "tags": []
   },
   "outputs": [
    {
     "ename": "ModuleNotFoundError",
     "evalue": "No module named 'circuit'",
     "output_type": "error",
     "traceback": [
      "\u001b[0;31m---------------------------------------------------------------------------\u001b[0m",
      "\u001b[0;31mModuleNotFoundError\u001b[0m                       Traceback (most recent call last)",
      "Cell \u001b[0;32mIn[7], line 1\u001b[0m\n\u001b[0;32m----> 1\u001b[0m \u001b[38;5;28;01mfrom\u001b[39;00m \u001b[38;5;21;01mcircuit\u001b[39;00m \u001b[38;5;28;01mimport\u001b[39;00m net_to_smt\n\u001b[1;32m      3\u001b[0m wires, ops, tr \u001b[38;5;241m=\u001b[39m net_to_smt(working_block(), mems\u001b[38;5;241m=\u001b[39m[mem])\n",
      "\u001b[0;31mModuleNotFoundError\u001b[0m: No module named 'circuit'"
     ]
    }
   ],
   "source": [
    "from circuit import net_to_smt\n",
    "\n",
    "wires, ops, tr = net_to_smt(working_block(), mems=[mem])"
   ]
  },
  {
   "cell_type": "code",
   "execution_count": 8,
   "id": "afd1f6c6-97b8-41b4-ba7a-5ed226e80479",
   "metadata": {
    "tags": []
   },
   "outputs": [
    {
     "ename": "NameError",
     "evalue": "name 'tr' is not defined",
     "output_type": "error",
     "traceback": [
      "\u001b[0;31m---------------------------------------------------------------------------\u001b[0m",
      "\u001b[0;31mNameError\u001b[0m                                 Traceback (most recent call last)",
      "Cell \u001b[0;32mIn[8], line 2\u001b[0m\n\u001b[1;32m      1\u001b[0m \u001b[38;5;28;01mfrom\u001b[39;00m \u001b[38;5;21;01mpresentation_forms\u001b[39;00m \u001b[38;5;28;01mimport\u001b[39;00m vertically\n\u001b[0;32m----> 2\u001b[0m vertically(\u001b[43mtr\u001b[49m)\n",
      "\u001b[0;31mNameError\u001b[0m: name 'tr' is not defined"
     ]
    }
   ],
   "source": [
    "from presentation_forms import vertically\n",
    "vertically(tr)"
   ]
  },
  {
   "cell_type": "code",
   "execution_count": 9,
   "id": "17a0bcf6-f105-4414-ae42-dd44479b0501",
   "metadata": {
    "tags": []
   },
   "outputs": [],
   "source": [
    "# you can find this implementation in `verification_utils` as well\n",
    "def mk_bv_array(bitwidth, addrwidth, data):\n",
    "    a = z3.K(z3.BitVecSort(addrwidth), z3.BitVecVal(0, bitwidth))\n",
    "    for i, d in enumerate(data):\n",
    "        a = z3.Store(a, i, d)\n",
    "    return a"
   ]
  },
  {
   "cell_type": "code",
   "execution_count": 10,
   "id": "2d60dc89-678c-4cd6-af99-482d0c355e25",
   "metadata": {
    "tags": []
   },
   "outputs": [
    {
     "ename": "NameError",
     "evalue": "name 'wires' is not defined",
     "output_type": "error",
     "traceback": [
      "\u001b[0;31m---------------------------------------------------------------------------\u001b[0m",
      "\u001b[0;31mNameError\u001b[0m                                 Traceback (most recent call last)",
      "Cell \u001b[0;32mIn[10], line 3\u001b[0m\n\u001b[1;32m      1\u001b[0m \u001b[38;5;28;01mfrom\u001b[39;00m \u001b[38;5;21;01mverification_utils\u001b[39;00m \u001b[38;5;28;01mimport\u001b[39;00m CHCs, mk_bv_array\n\u001b[0;32m----> 3\u001b[0m state_vars \u001b[38;5;241m=\u001b[39m [wires\u001b[38;5;241m.\u001b[39mlookup(v) \u001b[38;5;28;01mfor\u001b[39;00m v \u001b[38;5;129;01min\u001b[39;00m [\u001b[38;5;124m'\u001b[39m\u001b[38;5;124mpc\u001b[39m\u001b[38;5;124m'\u001b[39m, \u001b[38;5;124m'\u001b[39m\u001b[38;5;124msp\u001b[39m\u001b[38;5;124m'\u001b[39m, \u001b[38;5;124m'\u001b[39m\u001b[38;5;124mmem\u001b[39m\u001b[38;5;124m'\u001b[39m]]\n\u001b[1;32m      4\u001b[0m Inv \u001b[38;5;241m=\u001b[39m z3\u001b[38;5;241m.\u001b[39mFunction(\u001b[38;5;124m\"\u001b[39m\u001b[38;5;124mInv\u001b[39m\u001b[38;5;124m\"\u001b[39m, \u001b[38;5;241m*\u001b[39m(v\u001b[38;5;241m.\u001b[39msort() \u001b[38;5;28;01mfor\u001b[39;00m v \u001b[38;5;129;01min\u001b[39;00m state_vars), z3\u001b[38;5;241m.\u001b[39mBoolSort())\n\u001b[1;32m      6\u001b[0m vrom \u001b[38;5;241m=\u001b[39m wires\u001b[38;5;241m.\u001b[39mlookup_mem(\u001b[38;5;124m'\u001b[39m\u001b[38;5;124mrom\u001b[39m\u001b[38;5;124m'\u001b[39m)\n",
      "Cell \u001b[0;32mIn[10], line 3\u001b[0m, in \u001b[0;36m<listcomp>\u001b[0;34m(.0)\u001b[0m\n\u001b[1;32m      1\u001b[0m \u001b[38;5;28;01mfrom\u001b[39;00m \u001b[38;5;21;01mverification_utils\u001b[39;00m \u001b[38;5;28;01mimport\u001b[39;00m CHCs, mk_bv_array\n\u001b[0;32m----> 3\u001b[0m state_vars \u001b[38;5;241m=\u001b[39m [\u001b[43mwires\u001b[49m\u001b[38;5;241m.\u001b[39mlookup(v) \u001b[38;5;28;01mfor\u001b[39;00m v \u001b[38;5;129;01min\u001b[39;00m [\u001b[38;5;124m'\u001b[39m\u001b[38;5;124mpc\u001b[39m\u001b[38;5;124m'\u001b[39m, \u001b[38;5;124m'\u001b[39m\u001b[38;5;124msp\u001b[39m\u001b[38;5;124m'\u001b[39m, \u001b[38;5;124m'\u001b[39m\u001b[38;5;124mmem\u001b[39m\u001b[38;5;124m'\u001b[39m]]\n\u001b[1;32m      4\u001b[0m Inv \u001b[38;5;241m=\u001b[39m z3\u001b[38;5;241m.\u001b[39mFunction(\u001b[38;5;124m\"\u001b[39m\u001b[38;5;124mInv\u001b[39m\u001b[38;5;124m\"\u001b[39m, \u001b[38;5;241m*\u001b[39m(v\u001b[38;5;241m.\u001b[39msort() \u001b[38;5;28;01mfor\u001b[39;00m v \u001b[38;5;129;01min\u001b[39;00m state_vars), z3\u001b[38;5;241m.\u001b[39mBoolSort())\n\u001b[1;32m      6\u001b[0m vrom \u001b[38;5;241m=\u001b[39m wires\u001b[38;5;241m.\u001b[39mlookup_mem(\u001b[38;5;124m'\u001b[39m\u001b[38;5;124mrom\u001b[39m\u001b[38;5;124m'\u001b[39m)\n",
      "\u001b[0;31mNameError\u001b[0m: name 'wires' is not defined"
     ]
    }
   ],
   "source": [
    "\n",
    "from verification_utils import CHCs, mk_bv_array\n",
    "\n",
    "state_vars = [wires.lookup(v) for v in ['pc', 'sp', 'mem']]\n",
    "Inv = z3.Function(\"Inv\", *(v.sort() for v in state_vars), z3.BoolSort())\n",
    "\n",
    "vrom = wires.lookup_mem('rom')\n",
    "crom = mk_bv_array(5, 4, [0x15, 0x18, 0x0, 0xf])\n",
    "\n",
    "def pre_post():\n",
    "    pc, sp, mem = state_vars\n",
    "    out = mem[sp]\n",
    "\n",
    "    pre = z3.And(pc == 0, sp == 0, mem == mk_bv_array(4, 4, []))\n",
    "    post = z3.Implies(crom[pc] == 0xf, out == 8)\n",
    "\n",
    "    return pre, post\n",
    "\n",
    "def create_rules():\n",
    "    from z3 import Implies, And, Or, Not\n",
    "    \n",
    "    pre, post = pre_post()\n",
    "        \n",
    "    rom_eq = (vrom == crom)\n",
    "    \n",
    "    sigma = state_vars\n",
    "    sigma_p = [ops.primed(v) for v in state_vars]\n",
    "    \n",
    "    start = Implies(pre, Inv(sigma))\n",
    "    step = Implies(And(Inv(sigma), rom_eq, *tr), Inv(sigma_p))\n",
    "    end = Implies(And(Inv(sigma), Not(post)), False)\n",
    "        \n",
    "    return CHCs([start, step, end])\n",
    "\n",
    "rules = create_rules()\n",
    "rules"
   ]
  },
  {
   "cell_type": "code",
   "execution_count": 11,
   "id": "d793e4cf-b119-4016-8f34-b92e540d9ceb",
   "metadata": {
    "tags": []
   },
   "outputs": [
    {
     "ename": "NameError",
     "evalue": "name 'rules' is not defined",
     "output_type": "error",
     "traceback": [
      "\u001b[0;31m---------------------------------------------------------------------------\u001b[0m",
      "\u001b[0;31mNameError\u001b[0m                                 Traceback (most recent call last)",
      "Cell \u001b[0;32mIn[11], line 1\u001b[0m\n\u001b[0;32m----> 1\u001b[0m s \u001b[38;5;241m=\u001b[39m \u001b[43mrules\u001b[49m\u001b[38;5;241m.\u001b[39mcreate_solver()\n\u001b[1;32m      2\u001b[0m get_ipython()\u001b[38;5;241m.\u001b[39mrun_line_magic(\u001b[38;5;124m'\u001b[39m\u001b[38;5;124mtime\u001b[39m\u001b[38;5;124m'\u001b[39m, \u001b[38;5;124m'\u001b[39m\u001b[38;5;124mres = s.check()\u001b[39m\u001b[38;5;124m'\u001b[39m)\n\u001b[1;32m      3\u001b[0m res\n",
      "\u001b[0;31mNameError\u001b[0m: name 'rules' is not defined"
     ]
    }
   ],
   "source": [
    "s = rules.create_solver()\n",
    "%time res = s.check()\n",
    "res"
   ]
  },
  {
   "cell_type": "markdown",
   "id": "ef5f71b2-e522-4fa4-bf74-aa90b79b74fe",
   "metadata": {},
   "source": [
    "_If the result is_ `sat`, _this will display the inferred loop invariant_"
   ]
  },
  {
   "cell_type": "code",
   "execution_count": 12,
   "id": "95d0d90d-35f8-401c-8e5f-11874f302a6a",
   "metadata": {
    "tags": []
   },
   "outputs": [
    {
     "ename": "NameError",
     "evalue": "name 'res' is not defined",
     "output_type": "error",
     "traceback": [
      "\u001b[0;31m---------------------------------------------------------------------------\u001b[0m",
      "\u001b[0;31mNameError\u001b[0m                                 Traceback (most recent call last)",
      "Cell \u001b[0;32mIn[12], line 1\u001b[0m\n\u001b[0;32m----> 1\u001b[0m s\u001b[38;5;241m.\u001b[39mmodel()      \u001b[38;5;28;01mif\u001b[39;00m \u001b[43mres\u001b[49m \u001b[38;5;241m==\u001b[39m z3\u001b[38;5;241m.\u001b[39msat \u001b[38;5;28;01melse\u001b[39;00m \u001b[38;5;28;01mNone\u001b[39;00m\n",
      "\u001b[0;31mNameError\u001b[0m: name 'res' is not defined"
     ]
    }
   ],
   "source": [
    "s.model()      if res == z3.sat else None"
   ]
  },
  {
   "cell_type": "markdown",
   "id": "bee69d14-6099-4437-beff-11e4efde2fe5",
   "metadata": {},
   "source": [
    "_If the result is_ `unsat`, _a counterexample trace can be extracted from the proof of unsatisfiability._"
   ]
  },
  {
   "cell_type": "code",
   "execution_count": 13,
   "id": "d84c1611-c523-4802-9e93-0c19f9a6fa45",
   "metadata": {
    "tags": []
   },
   "outputs": [
    {
     "ename": "NameError",
     "evalue": "name 'res' is not defined",
     "output_type": "error",
     "traceback": [
      "\u001b[0;31m---------------------------------------------------------------------------\u001b[0m",
      "\u001b[0;31mNameError\u001b[0m                                 Traceback (most recent call last)",
      "Cell \u001b[0;32mIn[13], line 2\u001b[0m\n\u001b[1;32m      1\u001b[0m \u001b[38;5;28;01mfrom\u001b[39;00m \u001b[38;5;21;01mverification_utils\u001b[39;00m \u001b[38;5;28;01mimport\u001b[39;00m HyperResolutionProof\n\u001b[0;32m----> 2\u001b[0m HyperResolutionProof(s\u001b[38;5;241m.\u001b[39mproof())\u001b[38;5;241m.\u001b[39mto_roadmap()         \u001b[38;5;28;01mif\u001b[39;00m \u001b[43mres\u001b[49m \u001b[38;5;241m==\u001b[39m z3\u001b[38;5;241m.\u001b[39munsat \u001b[38;5;28;01melse\u001b[39;00m \u001b[38;5;28;01mNone\u001b[39;00m\n",
      "\u001b[0;31mNameError\u001b[0m: name 'res' is not defined"
     ]
    }
   ],
   "source": [
    "from verification_utils import HyperResolutionProof\n",
    "HyperResolutionProof(s.proof()).to_roadmap()         if res == z3.unsat else None"
   ]
  },
  {
   "cell_type": "code",
   "execution_count": null,
   "id": "076c5953-d66c-4e80-96c1-1262baa52c57",
   "metadata": {},
   "outputs": [],
   "source": []
  }
 ],
 "metadata": {
  "kernelspec": {
   "display_name": "Python 3 (ipykernel)",
   "language": "python",
   "name": "python3"
  },
  "language_info": {
   "codemirror_mode": {
    "name": "ipython",
    "version": 3
   },
   "file_extension": ".py",
   "mimetype": "text/x-python",
   "name": "python",
   "nbconvert_exporter": "python",
   "pygments_lexer": "ipython3",
   "version": "3.10.6"
  }
 },
 "nbformat": 4,
 "nbformat_minor": 5
}
