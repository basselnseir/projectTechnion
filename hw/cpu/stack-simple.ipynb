{
 "cells": [
  {
   "cell_type": "code",
   "execution_count": 1,
   "id": "d1a7a4ca-1a33-4594-9518-892deb8818f9",
   "metadata": {},
   "outputs": [
    {
     "data": {
      "text/html": [
       "<script src=\"https://unpkg.com/jquery@3.3.1/dist/jquery.js\"></script>"
      ],
      "text/plain": [
       "<IPython.core.display.HTML object>"
      ]
     },
     "metadata": {},
     "output_type": "display_data"
    }
   ],
   "source": [
    "import sys\n",
    "sys.path.append(\"../base\")\n",
    "\n",
    "import boilerplate\n",
    "from pyrtl import *\n",
    "\n",
    "import z3\n",
    "z3.set_param(proof=True)"
   ]
  },
  {
   "cell_type": "code",
   "execution_count": 2,
   "id": "36bda904-8e4a-4759-9c73-8f7711b0763d",
   "metadata": {},
   "outputs": [],
   "source": [
    "reset_working_block()\n",
    "\n",
    "pc = Register(name='pc', bitwidth=4)\n",
    "sp = Register(name='sp', bitwidth=4)\n",
    "mem = MemBlock(name='mem', bitwidth=4, addrwidth=4)\n",
    "rom = RomBlock(name='rom', bitwidth=5, addrwidth=4, romdata=[0x15, 0x18, 0, 0xf])\n",
    "\n",
    "out = Output(name='out', bitwidth=4)"
   ]
  },
  {
   "cell_type": "code",
   "execution_count": 3,
   "id": "b5f1e778-7f29-4af9-b19e-812c77dce7d3",
   "metadata": {},
   "outputs": [],
   "source": [
    "instr = rom[pc]\n",
    "out <<= mem[sp]\n",
    "\n",
    "with conditional_assignment:\n",
    "    with instr[4] == 1:   # PUSH\n",
    "        mem[sp] |= instr[0:4]\n",
    "        sp.next |= sp + 1\n",
    "        pc.next |= pc + 1\n",
    "    with instr == 0:      # POP\n",
    "        sp.next |= sp - 1\n",
    "        pc.next |= pc + 1"
   ]
  },
  {
   "cell_type": "code",
   "execution_count": 4,
   "id": "eae432cf-1399-441e-85e7-5b5d0e83146c",
   "metadata": {},
   "outputs": [],
   "source": [
    "sim = Simulation()\n",
    "for i in range(10):\n",
    "    sim.step({})"
   ]
  },
  {
   "cell_type": "code",
   "execution_count": 5,
   "id": "0b3cd9ea-71fc-4c2e-b113-b0c4cce43520",
   "metadata": {},
   "outputs": [
    {
     "data": {
      "text/html": [
       "<script type=\"WaveDrom\">\n",
       "{\n",
       "  signal : [\n",
       "    { name: \"out\",  wave: \"=..=......\", data: [\"0x0\", \"0x8\"] },\n",
       "    { name: \"pc\",  wave: \"====......\", data: [\"0x0\", \"0x1\", \"0x2\", \"0x3\"] },\n",
       "    { name: \"sp\",  wave: \"====......\", data: [\"0x0\", \"0x1\", \"0x2\", \"0x1\"] },\n",
       "  ],\n",
       "  config: { hscale: 1 }\n",
       "}\n",
       "</script>\n"
      ],
      "text/plain": [
       "<IPython.core.display.HTML object>"
      ]
     },
     "metadata": {},
     "output_type": "display_data"
    },
    {
     "data": {
      "application/javascript": [
       "\n",
       "            $.when(\n",
       "            $.getScript(\"https://cdnjs.cloudflare.com/ajax/libs/wavedrom/1.6.2/skins/default.js\"),\n",
       "            $.getScript(\"https://cdnjs.cloudflare.com/ajax/libs/wavedrom/1.6.2/wavedrom.min.js\"),\n",
       "            $.Deferred(function( deferred ){\n",
       "                $( deferred.resolve );\n",
       "            })).done(function(){\n",
       "                WaveDrom.ProcessAll();\n",
       "            });"
      ],
      "text/plain": [
       "<IPython.core.display.Javascript object>"
      ]
     },
     "metadata": {},
     "output_type": "display_data"
    }
   ],
   "source": [
    "sim.tracer.render_trace()"
   ]
  },
  {
   "cell_type": "code",
   "execution_count": 6,
   "id": "3c60d8f1-b30e-4662-bcfb-950159b103f5",
   "metadata": {},
   "outputs": [
    {
     "name": "stdout",
     "output_type": "stream",
     "text": [
      "--- Values in base 10 ---\n",
      "out 0 0 0 8 8 8 8 8 8 8\n",
      "pc  0 1 2 3 3 3 3 3 3 3\n",
      "sp  0 1 2 1 1 1 1 1 1 1\n"
     ]
    }
   ],
   "source": [
    "sim.tracer.print_trace()"
   ]
  },
  {
   "cell_type": "code",
   "execution_count": 7,
   "id": "aeda9d3b-9655-444b-8a77-6c918bdd738b",
   "metadata": {},
   "outputs": [],
   "source": [
    "from circuit import net_to_smt\n",
    "\n",
    "wires, ops, tr = net_to_smt(working_block(), mems=[mem])"
   ]
  },
  {
   "cell_type": "code",
   "execution_count": 8,
   "id": "afd1f6c6-97b8-41b4-ba7a-5ed226e80479",
   "metadata": {},
   "outputs": [
    {
     "data": {
      "text/html": [
       "<table style=\"background: white\"><tr><td style=\"text-align: left\">tmp9 =\n",
       "Concat(Concat(Extract(0, 0, 0), Extract(0, 0, 0)),\n",
       "       Extract(0, 0, 0))</td></tr><tr><td style=\"text-align: left\">tmp16 =\n",
       "Concat(Concat(Extract(0, 0, 0), Extract(0, 0, 0)),\n",
       "       Extract(0, 0, 0))</td></tr><tr><td style=\"text-align: left\">tmp1 = rom[pc]</td></tr><tr><td style=\"text-align: left\">tmp0 = mem[sp]</td></tr><tr><td style=\"text-align: left\">tmp13 =\n",
       "Concat(Concat(Concat(Extract(0, 0, 0), Extract(0, 0, 0)),\n",
       "              Extract(0, 0, 0)),\n",
       "       Extract(0, 0, 0))</td></tr><tr><td style=\"text-align: left\">tmp22 =\n",
       "Concat(Concat(Extract(0, 0, 0), Extract(0, 0, 0)),\n",
       "       Extract(0, 0, 0))</td></tr><tr><td style=\"text-align: left\">tmp5 =\n",
       "Concat(Concat(Extract(0, 0, 0), Extract(0, 0, 0)),\n",
       "       Extract(0, 0, 0))</td></tr><tr><td style=\"text-align: left\">tmp10 = Concat(tmp9, 1)</td></tr><tr><td style=\"text-align: left\">tmp17 = Concat(tmp16, 1)</td></tr><tr><td style=\"text-align: left\">out = tmp0</td></tr><tr><td style=\"text-align: left\">tmp2 = Extract(4, 4, tmp1)</td></tr><tr><td style=\"text-align: left\">tmp4 = Extract(3, 0, tmp1)</td></tr><tr><td style=\"text-align: left\">tmp11 = Concat(0, pc) + Concat(0, tmp10)</td></tr><tr><td style=\"text-align: left\">tmp23 = Concat(tmp22, 1)</td></tr><tr><td style=\"text-align: left\">tmp14 = Concat(tmp13, 0)</td></tr><tr><td style=\"text-align: left\">tmp6 = Concat(tmp5, 1)</td></tr><tr><td style=\"text-align: left\">tmp15 = If(tmp1 = tmp14, 1, 0)</td></tr><tr><td style=\"text-align: left\">tmp18 = Concat(0, sp) - Concat(0, tmp17)</td></tr><tr><td style=\"text-align: left\">tmp19 = Extract(3, 0, tmp18)</td></tr><tr><td style=\"text-align: left\">tmp3 = If(1 = tmp2, 1, 0)</td></tr><tr><td style=\"text-align: left\">tmp12 = Extract(3, 0, tmp11)</td></tr><tr><td style=\"text-align: left\">tmp24 = Concat(0, pc) + Concat(0, tmp23)</td></tr><tr><td style=\"text-align: left\">tmp7 = Concat(0, sp) + Concat(0, tmp6)</td></tr><tr><td style=\"text-align: left\">tmp25 = Extract(3, 0, tmp24)</td></tr><tr><td style=\"text-align: left\">tmp26 = ~tmp3</td></tr><tr><td style=\"text-align: left\">tmp20 = ~tmp3</td></tr><tr><td style=\"text-align: left\">tmp28 = If(0 = tmp3, 0, 1)</td></tr><tr><td style=\"text-align: left\">tmp27 = tmp26 & tmp15</td></tr><tr><td style=\"text-align: left\">tmp31 = If(0 = tmp3, pc, tmp12)</td></tr><tr><td style=\"text-align: left\">tmp8 = Extract(3, 0, tmp7)</td></tr><tr><td style=\"text-align: left\">tmp21 = tmp20 & tmp15</td></tr><tr><td style=\"text-align: left\">mem:wport:sp = memwr(sp, tmp4, tmp28 = 1)</td></tr><tr><td style=\"text-align: left\">tmp32 = If(0 = tmp27, tmp31, tmp25)</td></tr><tr><td style=\"text-align: left\">tmp29 = If(0 = tmp3, sp, tmp8)</td></tr><tr><td style=\"text-align: left\">tmp30 = If(0 = tmp21, tmp29, tmp19)</td></tr><tr><td style=\"text-align: left\">pc:next = tmp32</td></tr><tr><td style=\"text-align: left\">sp:next = tmp30</td></tr><tr><td style=\"text-align: left\">mem:next =\n",
       "If(wr_en(mem:wport:sp),\n",
       "   Store(mem, addr(mem:wport:sp), data(mem:wport:sp)),\n",
       "   mem)</td></tr></table>"
      ],
      "text/plain": [
       "<presentation_forms.table_repr at 0x105dd42b0>"
      ]
     },
     "execution_count": 8,
     "metadata": {},
     "output_type": "execute_result"
    }
   ],
   "source": [
    "from presentation_forms import vertically\n",
    "vertically(tr)"
   ]
  },
  {
   "cell_type": "code",
   "execution_count": 9,
   "id": "17a0bcf6-f105-4414-ae42-dd44479b0501",
   "metadata": {},
   "outputs": [],
   "source": [
    "# you can find this implementation in `verification_utils` as well\n",
    "def mk_bv_array(bitwidth, addrwidth, data):\n",
    "    a = z3.K(z3.BitVecSort(addrwidth), z3.BitVecVal(0, bitwidth))\n",
    "    for i, d in enumerate(data):\n",
    "        a = z3.Store(a, i, d)\n",
    "    return a"
   ]
  },
  {
   "cell_type": "code",
   "execution_count": 31,
   "id": "2d60dc89-678c-4cd6-af99-482d0c355e25",
   "metadata": {},
   "outputs": [
    {
     "data": {
      "text/html": [
       "<table style=\"background: white\"><tr><td style=\"text-align: left\">pc = 0 &and;\n",
       "sp = 2 &and;\n",
       "mem = Store(Store(K(BitVec(4), 0), 0, a), 1, b) &rArr;\n",
       "Inv(pc, sp, mem)</td></tr><tr><td style=\"text-align: left\">Inv(pc, sp, mem) &and;\n",
       "rom =\n",
       "Store(Store(Store(Store(K(BitVec(4), 0), 0, 21), 1, 24),\n",
       "            2,\n",
       "            0),\n",
       "      3,\n",
       "      15) &and;\n",
       "tmp9 =\n",
       "Concat(Concat(Extract(0, 0, 0), Extract(0, 0, 0)),\n",
       "       Extract(0, 0, 0)) &and;\n",
       "tmp16 =\n",
       "Concat(Concat(Extract(0, 0, 0), Extract(0, 0, 0)),\n",
       "       Extract(0, 0, 0)) &and;\n",
       "tmp1 = rom[pc] &and;\n",
       "tmp0 = mem[sp] &and;\n",
       "tmp13 =\n",
       "Concat(Concat(Concat(Extract(0, 0, 0), Extract(0, 0, 0)),\n",
       "              Extract(0, 0, 0)),\n",
       "       Extract(0, 0, 0)) &and;\n",
       "tmp22 =\n",
       "Concat(Concat(Extract(0, 0, 0), Extract(0, 0, 0)),\n",
       "       Extract(0, 0, 0)) &and;\n",
       "tmp5 =\n",
       "Concat(Concat(Extract(0, 0, 0), Extract(0, 0, 0)),\n",
       "       Extract(0, 0, 0)) &and;\n",
       "tmp10 = Concat(tmp9, 1) &and;\n",
       "tmp17 = Concat(tmp16, 1) &and;\n",
       "out = tmp0 &and;\n",
       "tmp2 = Extract(4, 4, tmp1) &and;\n",
       "tmp4 = Extract(3, 0, tmp1) &and;\n",
       "tmp11 = Concat(0, pc) + Concat(0, tmp10) &and;\n",
       "tmp23 = Concat(tmp22, 1) &and;\n",
       "tmp14 = Concat(tmp13, 0) &and;\n",
       "tmp6 = Concat(tmp5, 1) &and;\n",
       "tmp15 = If(tmp1 = tmp14, 1, 0) &and;\n",
       "tmp18 = Concat(0, sp) - Concat(0, tmp17) &and;\n",
       "tmp19 = Extract(3, 0, tmp18) &and;\n",
       "tmp3 = If(1 = tmp2, 1, 0) &and;\n",
       "tmp12 = Extract(3, 0, tmp11) &and;\n",
       "tmp24 = Concat(0, pc) + Concat(0, tmp23) &and;\n",
       "tmp7 = Concat(0, sp) + Concat(0, tmp6) &and;\n",
       "tmp25 = Extract(3, 0, tmp24) &and;\n",
       "tmp26 = ~tmp3 &and;\n",
       "tmp20 = ~tmp3 &and;\n",
       "tmp28 = If(0 = tmp3, 0, 1) &and;\n",
       "tmp27 = tmp26 & tmp15 &and;\n",
       "tmp31 = If(0 = tmp3, pc, tmp12) &and;\n",
       "tmp8 = Extract(3, 0, tmp7) &and;\n",
       "tmp21 = tmp20 & tmp15 &and;\n",
       "mem:wport:sp = memwr(sp, tmp4, tmp28 = 1) &and;\n",
       "tmp32 = If(0 = tmp27, tmp31, tmp25) &and;\n",
       "tmp29 = If(0 = tmp3, sp, tmp8) &and;\n",
       "tmp30 = If(0 = tmp21, tmp29, tmp19) &and;\n",
       "pc:next = tmp32 &and;\n",
       "sp:next = tmp30 &and;\n",
       "mem:next =\n",
       "If(wr_en(mem:wport:sp),\n",
       "   Store(mem, addr(mem:wport:sp), data(mem:wport:sp)),\n",
       "   mem) &rArr;\n",
       "Inv(pc:next, sp:next, mem:next)</td></tr><tr><td style=\"text-align: left\">Inv(pc, sp, mem) &and;\n",
       "&not;(Store(Store(Store(Store(K(BitVec(4), 0), 0, 21), 1, 24),\n",
       "              2,\n",
       "              0),\n",
       "        3,\n",
       "        15)[pc] =\n",
       "  15 &rArr;\n",
       "  mem[sp] = 8) &rArr;\n",
       "False</td></tr></table>"
      ],
      "text/plain": [
       "<verification_utils.CHCs at 0x10a1bfe80>"
      ]
     },
     "execution_count": 31,
     "metadata": {},
     "output_type": "execute_result"
    }
   ],
   "source": [
    "\n",
    "from verification_utils import CHCs, mk_bv_array\n",
    "\n",
    "state_vars = [wires.lookup(v) for v in ['pc', 'sp', 'mem']]\n",
    "Inv = z3.Function(\"Inv\", *(v.sort() for v in state_vars), z3.BoolSort())\n",
    "\n",
    "vrom = wires.lookup_mem('rom')\n",
    "crom = mk_bv_array(5, 4, [0x15, 0x18, 0x0, 0xf])\n",
    "\n",
    "def pre_post():\n",
    "    pc, sp, mem = state_vars\n",
    "    out = mem[sp]\n",
    "\n",
    "    pre = z3.And(pc == 0, sp == 2, mem == mk_bv_array(4, 4, [a, b]))\n",
    "    post = z3.Implies(crom[pc] == 0xf, out == 8)\n",
    "\n",
    "    return pre, post\n",
    "\n",
    "def create_rules():\n",
    "    from z3 import Implies, And, Or, Not\n",
    "    \n",
    "    pre, post = pre_post()\n",
    "        \n",
    "    rom_eq = (vrom == crom)\n",
    "    \n",
    "    sigma = state_vars\n",
    "    sigma_p = [ops.primed(v) for v in state_vars]\n",
    "    \n",
    "    start = Implies(pre, Inv(sigma))\n",
    "    step = Implies(And(Inv(sigma), rom_eq, *tr), Inv(sigma_p))\n",
    "    end = Implies(And(Inv(sigma), Not(post)), False)\n",
    "        \n",
    "    return CHCs([start, step, end])\n",
    "\n",
    "rules = create_rules()\n",
    "rules"
   ]
  },
  {
   "cell_type": "code",
   "execution_count": 32,
   "id": "d793e4cf-b119-4016-8f34-b92e540d9ceb",
   "metadata": {},
   "outputs": [
    {
     "name": "stdout",
     "output_type": "stream",
     "text": [
      "CPU times: user 20 ms, sys: 1.48 ms, total: 21.4 ms\n",
      "Wall time: 21.8 ms\n"
     ]
    },
    {
     "data": {
      "text/html": [
       "<b>sat</b>"
      ],
      "text/plain": [
       "sat"
      ]
     },
     "execution_count": 32,
     "metadata": {},
     "output_type": "execute_result"
    }
   ],
   "source": [
    "s = rules.create_solver()\n",
    "%time res = s.check()\n",
    "res"
   ]
  },
  {
   "cell_type": "markdown",
   "id": "ef5f71b2-e522-4fa4-bf74-aa90b79b74fe",
   "metadata": {},
   "source": [
    "_If the result is_ `sat`, _this will display the inferred loop invariant_"
   ]
  },
  {
   "cell_type": "code",
   "execution_count": 33,
   "id": "95d0d90d-35f8-401c-8e5f-11874f302a6a",
   "metadata": {},
   "outputs": [
    {
     "data": {
      "text/html": [
       "[Inv = [else &rarr;\n",
       "        (&not;(&#957;<sub>0</sub> = 3) &or; &#957;<sub>2</sub>[&#957;<sub>1</sub>] = 8) &and; (&not;(&#957;<sub>0</sub> = 2) &or; &#957;<sub>2</sub>[15 + &#957;<sub>1</sub>] = 8)]]"
      ],
      "text/plain": [
       "[Inv = [else ->\n",
       "        And(Or(Not(Var(0) == 3), Var(2)[Var(1)] == 8),\n",
       "            Or(Not(Var(0) == 2), Var(2)[15 + Var(1)] == 8))]]"
      ]
     },
     "execution_count": 33,
     "metadata": {},
     "output_type": "execute_result"
    }
   ],
   "source": [
    "s.model()      if res == z3.sat else None"
   ]
  },
  {
   "cell_type": "markdown",
   "id": "bee69d14-6099-4437-beff-11e4efde2fe5",
   "metadata": {},
   "source": [
    "_If the result is_ `unsat`, _a counterexample trace can be extracted from the proof of unsatisfiability._"
   ]
  },
  {
   "cell_type": "code",
   "execution_count": 34,
   "id": "d84c1611-c523-4802-9e93-0c19f9a6fa45",
   "metadata": {},
   "outputs": [],
   "source": [
    "from verification_utils import HyperResolutionProof\n",
    "HyperResolutionProof(s.proof()).to_roadmap()         if res == z3.unsat else None"
   ]
  },
  {
   "cell_type": "code",
   "execution_count": null,
   "id": "076c5953-d66c-4e80-96c1-1262baa52c57",
   "metadata": {},
   "outputs": [],
   "source": []
  }
 ],
 "metadata": {
  "kernelspec": {
   "display_name": "Python 3 (ipykernel)",
   "language": "python",
   "name": "python3"
  },
  "language_info": {
   "codemirror_mode": {
    "name": "ipython",
    "version": 3
   },
   "file_extension": ".py",
   "mimetype": "text/x-python",
   "name": "python",
   "nbconvert_exporter": "python",
   "pygments_lexer": "ipython3",
   "version": "3.10.2"
  }
 },
 "nbformat": 4,
 "nbformat_minor": 5
}
