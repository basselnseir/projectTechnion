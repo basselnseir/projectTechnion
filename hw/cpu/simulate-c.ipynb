{
 "cells": [
  {
   "cell_type": "code",
   "execution_count": 1,
   "id": "3e73a7a8-539c-4aa3-8220-99d285816d15",
   "metadata": {},
   "outputs": [
    {
     "data": {
      "text/html": [
       "<script src=\"https://unpkg.com/jquery@3.3.1/dist/jquery.js\"></script>"
      ],
      "text/plain": [
       "<IPython.core.display.HTML object>"
      ]
     },
     "metadata": {},
     "output_type": "display_data"
    }
   ],
   "source": [
    "import sys\n",
    "sys.path.append(\"../base\")\n",
    "\n",
    "import boilerplate\n",
    "from pyrtl import *"
   ]
  },
  {
   "cell_type": "code",
   "execution_count": 12,
   "id": "9fc1aab8-ea6d-45d5-9a94-4cae41111300",
   "metadata": {},
   "outputs": [],
   "source": [
    "reset_working_block()\n",
    "\n",
    "pc = Register(name='pc', bitwidth=4)\n",
    "sp = Register(name='sp', bitwidth=4)\n",
    "mem = MemBlock(name='mem', bitwidth=4, addrwidth=4)\n",
    "rom = RomBlock(name='rom', bitwidth=5, addrwidth=4, romdata=[0x15, 0x18, 0, 0xf],\n",
    "               pad_with_zeros=True)  # needed for C compilation\n",
    "\n",
    "out = Output(name='out', bitwidth=4)"
   ]
  },
  {
   "cell_type": "code",
   "execution_count": 13,
   "id": "935f93b5-e268-4595-965d-9b11117b852c",
   "metadata": {},
   "outputs": [],
   "source": [
    "instr = rom[pc]\n",
    "out <<= mem[sp]\n",
    "\n",
    "with conditional_assignment:\n",
    "    with instr[4] == 1:   # PUSH\n",
    "        mem[sp] |= instr[0:4]\n",
    "        sp.next |= sp + 1\n",
    "        pc.next |= pc + 1\n",
    "    with instr == 0:      # POP\n",
    "        sp.next |= sp - 1\n",
    "        pc.next |= pc + 1"
   ]
  },
  {
   "cell_type": "code",
   "execution_count": 14,
   "id": "bb60cb77-64a9-43d3-80c0-7b3a1fc18a2a",
   "metadata": {},
   "outputs": [],
   "source": [
    "# Debug ports -- so that we see something during simulation\n",
    "d_sp = Output(name='d_sp', bitwidth=4)\n",
    "d_pc = Output(name='d_pc', bitwidth=4)\n",
    "\n",
    "d_sp <<= sp\n",
    "d_pc <<= pc"
   ]
  },
  {
   "cell_type": "markdown",
   "id": "51c17671-9bc7-42d1-9a89-b4611c2bae02",
   "metadata": {},
   "source": [
    "### Simulation in C"
   ]
  },
  {
   "cell_type": "code",
   "execution_count": 15,
   "id": "56e7aabf-7cfc-481b-9b8e-4169579cf995",
   "metadata": {},
   "outputs": [],
   "source": [
    "import os\n",
    "from simulate import CCompiledSimulation"
   ]
  },
  {
   "cell_type": "code",
   "execution_count": 16,
   "id": "2fa22978-7ab0-4d87-bd32-421e6c209791",
   "metadata": {},
   "outputs": [
    {
     "data": {
      "text/plain": [
       "<simulate.simulation_utils.CCompiledSimulation at 0x1071b7430>"
      ]
     },
     "execution_count": 16,
     "metadata": {},
     "output_type": "execute_result"
    }
   ],
   "source": [
    "CCompiledSimulation(out_dir=\"obj\")"
   ]
  },
  {
   "cell_type": "code",
   "execution_count": 19,
   "id": "07551673-6052-4423-8453-9bf812672a57",
   "metadata": {},
   "outputs": [
    {
     "name": "stdout",
     "output_type": "stream",
     "text": [
      "clang++ -O3 -Iobj -std=c++11 -DNO_DEBUG_MEM -c -o obj/csim_main.o simulate/csim_main.cpp\n",
      "clang++ -o bin/csim obj/csim.o obj/csim_main.o\n"
     ]
    },
    {
     "data": {
      "text/plain": [
       "0"
      ]
     },
     "execution_count": 19,
     "metadata": {},
     "output_type": "execute_result"
    }
   ],
   "source": [
    "os.system(\"make\")"
   ]
  },
  {
   "cell_type": "code",
   "execution_count": 25,
   "id": "2ed5fab9-41ae-4276-910a-f5026e36464e",
   "metadata": {},
   "outputs": [
    {
     "name": "stdout",
     "output_type": "stream",
     "text": [
      "0000 0000 \n",
      "0001 0001 \n",
      "0002 0002 \n",
      "0003 0001 \n",
      "0003 0001 \n",
      "0003 0001 \n",
      "0003 0001 \n",
      "0003 0001 \n",
      "0003 0001 \n",
      "0003 0001 \n",
      "0003 0001 \n",
      "0003 0001 \n",
      "0003 0001 \n",
      "0003 0001 \n",
      "0003 0001 \n",
      "0003 0001 \n",
      "0003 0001 \n",
      "0003 0001 \n",
      "0003 0001 \n",
      "0003 0001 \n",
      "[info] Simulation time: 0.086125ms\n",
      "[info] # cycles: 20\n",
      "[info] 0.232221MHz\n"
     ]
    },
    {
     "data": {
      "text/plain": [
       "0"
      ]
     },
     "execution_count": 25,
     "metadata": {},
     "output_type": "execute_result"
    }
   ],
   "source": [
    "os.environ['DEBUG_CPU'] = '1'\n",
    "os.environ['MAX_CYCLES'] = '20'\n",
    "os.system('bin/csim')"
   ]
  },
  {
   "cell_type": "code",
   "execution_count": null,
   "id": "d5a39c39-3925-479c-8d2f-c1cf9e80f637",
   "metadata": {},
   "outputs": [],
   "source": []
  }
 ],
 "metadata": {
  "kernelspec": {
   "display_name": "Python 3 (ipykernel)",
   "language": "python",
   "name": "python3"
  },
  "language_info": {
   "codemirror_mode": {
    "name": "ipython",
    "version": 3
   },
   "file_extension": ".py",
   "mimetype": "text/x-python",
   "name": "python",
   "nbconvert_exporter": "python",
   "pygments_lexer": "ipython3",
   "version": "3.10.2"
  }
 },
 "nbformat": 4,
 "nbformat_minor": 5
}
