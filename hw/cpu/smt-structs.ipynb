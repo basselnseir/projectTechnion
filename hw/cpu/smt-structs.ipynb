{
 "cells": [
  {
   "cell_type": "markdown",
   "id": "6e9ff710-e435-4799-9b59-02dc7e178387",
   "metadata": {},
   "source": [
    "This notebook demonstrates the common usage pattern for defining structs (called Datatypes) in Z3 using the Python API. Consider using this as an alternative to defining multiple variables for _e.g._ the address, data, and enable signals of a memory's write port."
   ]
  },
  {
   "cell_type": "code",
   "execution_count": 1,
   "id": "9377ac03-c776-41f5-8548-8aaa65a5a112",
   "metadata": {},
   "outputs": [],
   "source": [
    "import z3"
   ]
  },
  {
   "cell_type": "code",
   "execution_count": 3,
   "id": "1e32246e-1564-4d0f-8872-2673c8de6df8",
   "metadata": {},
   "outputs": [],
   "source": [
    "bitwidth = 4\n",
    "addrwidth = 4\n",
    "\n",
    "dt = z3.Datatype('MemWritePort')\n",
    "dt.declare('memwr', ('addr', z3.BitVecSort(addrwidth)),\n",
    "                    ('data', z3.BitVecSort(bitwidth)),\n",
    "                    ('wr_en', z3.BoolSort()))\n",
    "dt = dt.create()"
   ]
  },
  {
   "cell_type": "markdown",
   "id": "d97b7683-f81d-4e92-8f7c-72dc0de7b780",
   "metadata": {},
   "source": [
    "`MemWritePort` is the name of the data type. `memwr` _is the **constructor** for_ `MemWritePort`"
   ]
  },
  {
   "cell_type": "code",
   "execution_count": 4,
   "id": "c2c87583-be6f-41c9-9855-499a097cc99e",
   "metadata": {},
   "outputs": [
    {
     "data": {
      "text/html": [
       "memwr"
      ],
      "text/plain": [
       "memwr"
      ]
     },
     "execution_count": 4,
     "metadata": {},
     "output_type": "execute_result"
    }
   ],
   "source": [
    "dt.memwr"
   ]
  },
  {
   "cell_type": "code",
   "execution_count": 10,
   "id": "97ce7bd3-fe0b-4920-96fa-a5dcc58de2dd",
   "metadata": {},
   "outputs": [
    {
     "data": {
      "text/html": [
       "memwr(5, 2, True)"
      ],
      "text/plain": [
       "memwr(5, 2, True)"
      ]
     },
     "execution_count": 10,
     "metadata": {},
     "output_type": "execute_result"
    }
   ],
   "source": [
    "v = dt.memwr(5, 2, True)\n",
    "v"
   ]
  },
  {
   "cell_type": "markdown",
   "id": "c85dc071-fc0c-483f-88ed-c1f416fa4c1f",
   "metadata": {},
   "source": [
    "`addr`, `data`, `wr_en` _are **projections** used to access its members_"
   ]
  },
  {
   "cell_type": "code",
   "execution_count": 11,
   "id": "596556dd-86b3-45b9-8710-7e9d7d71ff32",
   "metadata": {},
   "outputs": [
    {
     "data": {
      "text/html": [
       "addr(memwr(5, 2, True))"
      ],
      "text/plain": [
       "addr(memwr(5, 2, True))"
      ]
     },
     "execution_count": 11,
     "metadata": {},
     "output_type": "execute_result"
    }
   ],
   "source": [
    "dt.addr(v)"
   ]
  },
  {
   "cell_type": "code",
   "execution_count": 12,
   "id": "78467286-224e-4160-af9e-ce63ca5ff898",
   "metadata": {},
   "outputs": [
    {
     "data": {
      "text/html": [
       "5"
      ],
      "text/plain": [
       "5"
      ]
     },
     "execution_count": 12,
     "metadata": {},
     "output_type": "execute_result"
    }
   ],
   "source": [
    "z3.simplify(dt.addr(v))"
   ]
  },
  {
   "cell_type": "markdown",
   "id": "c6c1c181-9e74-4f87-8d4b-18aa6bdc3d62",
   "metadata": {},
   "source": [
    "_Constructor arguments may be symbolic values, and you can make symbolic values for structs._"
   ]
  },
  {
   "cell_type": "code",
   "execution_count": 16,
   "id": "b2786b71-0e5d-477b-8b61-d4d6e84460cd",
   "metadata": {},
   "outputs": [],
   "source": [
    "x, y = z3.BitVecs(\"x y\", addrwidth)"
   ]
  },
  {
   "cell_type": "code",
   "execution_count": 18,
   "id": "3ddbbe26-9393-4bfc-ba59-d5c3f4b92ad6",
   "metadata": {},
   "outputs": [
    {
     "data": {
      "text/html": [
       "memwr(x + y, 9, x &gt; y)"
      ],
      "text/plain": [
       "memwr(x + y, 9, x > y)"
      ]
     },
     "execution_count": 18,
     "metadata": {},
     "output_type": "execute_result"
    }
   ],
   "source": [
    "w = dt.memwr(x + y, 9, x > y)\n",
    "w"
   ]
  },
  {
   "cell_type": "code",
   "execution_count": 19,
   "id": "86d9a0a0-4ae0-4490-9920-576b249be8f0",
   "metadata": {},
   "outputs": [],
   "source": [
    "port = z3.Const(\"mem:wport:1\", dt)"
   ]
  },
  {
   "cell_type": "code",
   "execution_count": 21,
   "id": "ead5f0d3-6913-4359-99b0-8c11e38599dd",
   "metadata": {},
   "outputs": [
    {
     "data": {
      "text/plain": [
       "(addr(mem:wport:1), data(mem:wport:1), wr_en(mem:wport:1))"
      ]
     },
     "execution_count": 21,
     "metadata": {},
     "output_type": "execute_result"
    }
   ],
   "source": [
    "dt.addr(port), dt.data(port), dt.wr_en(port)"
   ]
  },
  {
   "cell_type": "markdown",
   "id": "1d5f58a8-b2c9-4b74-8e31-08543a4f6e7a",
   "metadata": {},
   "source": [
    "_**Tip.** Here is some memory boilerplate._"
   ]
  },
  {
   "cell_type": "code",
   "execution_count": 24,
   "id": "b24288d5-7a2a-4915-a430-fdb4415ef58e",
   "metadata": {},
   "outputs": [],
   "source": [
    "mem = z3.Array(\"mem\", z3.BitVecSort(addrwidth), z3.BitVecSort(bitwidth))\n",
    "mem_p = z3.If(dt.wr_en(port), z3.Store(mem, dt.addr(port), dt.data(port)), mem)"
   ]
  },
  {
   "cell_type": "code",
   "execution_count": 25,
   "id": "0afffa91-33eb-4a4d-8901-f69d6467e837",
   "metadata": {},
   "outputs": [
    {
     "data": {
      "text/html": [
       "If(wr_en(mem:wport:1),\n",
       "   Store(mem, addr(mem:wport:1), data(mem:wport:1)),\n",
       "   mem)"
      ],
      "text/plain": [
       "If(wr_en(mem:wport:1),\n",
       "   Store(mem, addr(mem:wport:1), data(mem:wport:1)),\n",
       "   mem)"
      ]
     },
     "execution_count": 25,
     "metadata": {},
     "output_type": "execute_result"
    }
   ],
   "source": [
    "mem_p"
   ]
  },
  {
   "cell_type": "markdown",
   "id": "aa10881c-a429-4ec0-a718-32ced9e39a6a",
   "metadata": {},
   "source": [
    "_Nice._"
   ]
  }
 ],
 "metadata": {
  "kernelspec": {
   "display_name": "Python 3 (ipykernel)",
   "language": "python",
   "name": "python3"
  },
  "language_info": {
   "codemirror_mode": {
    "name": "ipython",
    "version": 3
   },
   "file_extension": ".py",
   "mimetype": "text/x-python",
   "name": "python",
   "nbconvert_exporter": "python",
   "pygments_lexer": "ipython3",
   "version": "3.10.6"
  }
 },
 "nbformat": 4,
 "nbformat_minor": 5
}
