{
 "cells": [
  {
   "cell_type": "code",
   "execution_count": 1,
   "id": "ef58576c-0a46-4f96-b80e-02305974712c",
   "metadata": {},
   "outputs": [
    {
     "data": {
      "text/html": [
       "<script src=\"https://unpkg.com/jquery@3.3.1/dist/jquery.js\"></script>"
      ],
      "text/plain": [
       "<IPython.core.display.HTML object>"
      ]
     },
     "metadata": {},
     "output_type": "display_data"
    }
   ],
   "source": [
    "import sys\n",
    "sys.path.append('../../hw/base')  # just for the boilerplate stuff\n",
    "\n",
    "from verification_utils import CHCs, mk_int_array\n",
    "import boilerplate"
   ]
  },
  {
   "cell_type": "code",
   "execution_count": 2,
   "id": "b0cf1962-c33e-421a-9a5f-44d6721ff97f",
   "metadata": {},
   "outputs": [],
   "source": [
    "from z3 import *\n",
    "import z3\n",
    "z3.set_param(proof=True)  # this is needed so that we can call `.proof()` later"
   ]
  },
  {
   "cell_type": "markdown",
   "id": "c1379f86-ff7a-4254-82e1-73917db99989",
   "metadata": {},
   "source": [
    "## First example\n",
    "A loop-free program"
   ]
  },
  {
   "cell_type": "code",
   "execution_count": 3,
   "id": "0c126719-3bc0-4961-9761-cff27c28e77d",
   "metadata": {},
   "outputs": [],
   "source": [
    "stack = Array('stack', IntSort(), IntSort())\n",
    "sp = Int('sp')\n",
    "state_vars = [stack, sp]\n",
    "\n",
    "a, b = input_vars = Ints('a b')"
   ]
  },
  {
   "cell_type": "code",
   "execution_count": 4,
   "id": "e6164d2d-1c47-4108-8791-046db832771b",
   "metadata": {},
   "outputs": [],
   "source": [
    "U = {i: Function(f\"U{i}\", *(v.sort() for v in [*input_vars, *state_vars]), BoolSort())\n",
    "     for i in range(6)}"
   ]
  },
  {
   "cell_type": "code",
   "execution_count": 5,
   "id": "bb2dc9b0-39fa-415e-b34e-44859ed4b895",
   "metadata": {},
   "outputs": [
    {
     "name": "stdout",
     "output_type": "stream",
     "text": [
      "stack sp\n",
      "U4(a, b, stack, sp)\n"
     ]
    },
    {
     "data": {
      "text/html": [
       "<table style=\"background: white\"><tr><td style=\"text-align: left\">stack = Store(Store(K(Int, 0), 0, a), 1, b) &and; sp = 2 &rArr;\n",
       "U0(a, b, stack, sp)</td></tr><tr><td style=\"text-align: left\">U0(a, b, stack, sp) &rArr; U1(a, b, Store(stack, sp, 13), sp + 1)</td></tr><tr><td style=\"text-align: left\">U1(a, b, stack, sp) &rArr;\n",
       "U2(a,\n",
       "   b,\n",
       "   Store(stack, sp - 2, stack[sp - 1]&middot;stack[sp - 2]),\n",
       "   sp - 1)</td></tr><tr><td style=\"text-align: left\">U2(a, b, stack, sp) &rArr;\n",
       "U3(a,\n",
       "   b,\n",
       "   Store(stack, sp - 2, stack[sp - 1] + stack[sp - 2]),\n",
       "   sp - 1)</td></tr><tr><td style=\"text-align: left\">U3(a, b, stack, sp) &rArr; U4(a, b, stack, sp - 1)</td></tr><tr><td style=\"text-align: left\">U4(a, b, stack, sp) &rArr; stack[sp] = a + b&middot;13</td></tr></table>"
      ],
      "text/plain": [
       "<verification_utils.CHCs at 0x7fa32448b6a0>"
      ]
     },
     "execution_count": 5,
     "metadata": {},
     "output_type": "execute_result"
    }
   ],
   "source": [
    "sigma = [*input_vars, *state_vars]\n",
    "print(*state_vars)\n",
    "\"\"\"\n",
    "{ stack = [a, b] }\n",
    "PUSH 13\n",
    "POP 2; ALU MUL\n",
    "POP 2; ALU ADD\n",
    "POP 1\n",
    "{ ret = a + b * 13 }\n",
    "\"\"\"\n",
    "ls = [\n",
    "    #Implies(And(stack[0] == a, stack[1] == b, sp == 2), U[0](sigma)),\n",
    "    Implies(And(stack == mk_int_array([a,b]), sp == 2), U[0](sigma)),\n",
    "    Implies(U[0](sigma), U[1](a, b, Store(stack, sp, 13), sp + 1)),\n",
    "    Implies(U[1](sigma), U[2](a, b, Store(stack, sp - 2, stack[sp - 1] * stack[sp - 2]), sp - 1)),\n",
    "    Implies(U[2](sigma), U[3](a, b, Store(stack, sp - 2, stack[sp - 1] + stack[sp - 2]), sp - 1)),\n",
    "    Implies(U[3](sigma), U[4](a, b, stack, sp - 1)),\n",
    "    Implies(U[4](sigma), stack[sp] == a + b * 13),\n",
    "]\n",
    "print(U[4](sigma))\n",
    "chcs = CHCs(ls)\n",
    "chcs"
   ]
  },
  {
   "cell_type": "code",
   "execution_count": 6,
   "id": "2b6d10a0-9e98-48ca-b922-d5302fdabebf",
   "metadata": {},
   "outputs": [
    {
     "name": "stdout",
     "output_type": "stream",
     "text": [
      "CPU times: user 3.75 ms, sys: 938 µs, total: 4.69 ms\n",
      "Wall time: 5.09 ms\n"
     ]
    },
    {
     "data": {
      "text/html": [
       "<b>sat</b>"
      ],
      "text/plain": [
       "sat"
      ]
     },
     "execution_count": 6,
     "metadata": {},
     "output_type": "execute_result"
    }
   ],
   "source": [
    "s = chcs.create_solver()\n",
    "#s.set('xform.inline_eager', False)\n",
    "#s.set('xform.inline_linear', False)\n",
    "%time s.check()"
   ]
  },
  {
   "cell_type": "code",
   "execution_count": 7,
   "id": "fcfbc256-fbc2-43cc-97ec-b3668771171c",
   "metadata": {},
   "outputs": [
    {
     "data": {
      "text/html": [
       "[U2 = [else &rarr;\n",
       "       &#957;<sub>3</sub> = 2 &and;\n",
       "       Store(Store(Store(K(Int, 0), 0, &#957;<sub>0</sub>), 2, 13), 1, 13&middot;&#957;<sub>1</sub>) =\n",
       "       &#957;<sub>2</sub>],\n",
       " U0 = [else &rarr; &#957;<sub>2</sub> = Store(Store(K(Int, 0), 0, &#957;<sub>0</sub>), 1, &#957;<sub>1</sub>) &and; &#957;<sub>3</sub> = 2],\n",
       " U4 = [else &rarr;\n",
       "       &#957;<sub>3</sub> = 0 &and;\n",
       "       Store(Store(Store(K(Int, 0), 2, 13), 1, 13&middot;&#957;<sub>1</sub>),\n",
       "             0,\n",
       "             13&middot;&#957;<sub>1</sub> + &#957;<sub>0</sub>) =\n",
       "       &#957;<sub>2</sub>],\n",
       " U1 = [else &rarr;\n",
       "       &#957;<sub>3</sub> = 3 &and;\n",
       "       Store(Store(Store(K(Int, 0), 0, &#957;<sub>0</sub>), 1, &#957;<sub>1</sub>), 2, 13) = &#957;<sub>2</sub>],\n",
       " U3 = [else &rarr;\n",
       "       &#957;<sub>3</sub> = 1 &and;\n",
       "       Store(Store(Store(K(Int, 0), 2, 13), 1, 13&middot;&#957;<sub>1</sub>),\n",
       "             0,\n",
       "             13&middot;&#957;<sub>1</sub> + &#957;<sub>0</sub>) =\n",
       "       &#957;<sub>2</sub>]]"
      ],
      "text/plain": [
       "[U2 = [else ->\n",
       "       And(Var(3) == 2,\n",
       "           Store(Store(Store(K(Int, 0), 0, Var(0)), 2, 13),\n",
       "                 1,\n",
       "                 13*Var(1)) ==\n",
       "           Var(2))],\n",
       " U0 = [else ->\n",
       "       And(Var(2) ==\n",
       "           Store(Store(K(Int, 0), 0, Var(0)), 1, Var(1)),\n",
       "           Var(3) == 2)],\n",
       " U4 = [else ->\n",
       "       And(Var(3) == 0,\n",
       "           Store(Store(Store(K(Int, 0), 2, 13),\n",
       "                       1,\n",
       "                       13*Var(1)),\n",
       "                 0,\n",
       "                 13*Var(1) + Var(0)) ==\n",
       "           Var(2))],\n",
       " U1 = [else ->\n",
       "       And(Var(3) == 3,\n",
       "           Store(Store(Store(K(Int, 0), 0, Var(0)),\n",
       "                       1,\n",
       "                       Var(1)),\n",
       "                 2,\n",
       "                 13) ==\n",
       "           Var(2))],\n",
       " U3 = [else ->\n",
       "       And(Var(3) == 1,\n",
       "           Store(Store(Store(K(Int, 0), 2, 13),\n",
       "                       1,\n",
       "                       13*Var(1)),\n",
       "                 0,\n",
       "                 13*Var(1) + Var(0)) ==\n",
       "           Var(2))]]"
      ]
     },
     "execution_count": 7,
     "metadata": {},
     "output_type": "execute_result"
    }
   ],
   "source": [
    "s.model()"
   ]
  },
  {
   "cell_type": "markdown",
   "id": "ef2355bb-9351-4752-a02a-45a9843cb19c",
   "metadata": {},
   "source": [
    "## Second Example: A Loop That Computes Addition\n",
    "\n",
    "The very basic: two input variables, two local variables.\n",
    "```python\n",
    "# Input: a, b  s.t. b > 0\n",
    "x = a; y = 0\n",
    "while y < b:\n",
    "  x += 1; y += 1\n",
    "# Output: x = a + b\n",
    "```"
   ]
  },
  {
   "cell_type": "code",
   "execution_count": 8,
   "id": "a958bbac-4932-4613-a286-be38ca949c1b",
   "metadata": {},
   "outputs": [
    {
     "data": {
      "text/html": [
       "<table style=\"background: white\"><tr><td style=\"text-align: left\">b &gt; 0 &rArr; inv(a, b, a, 0)</td></tr><tr><td style=\"text-align: left\">inv(a, b, x, y) &and; y &lt; b &rArr; inv(a, b, x + 1, y + 1)</td></tr><tr><td style=\"text-align: left\">inv(a, b, x, y) &and; y &ge; b &and; &not;(x = a + b) &rArr; False</td></tr></table>"
      ],
      "text/plain": [
       "<verification_utils.CHCs at 0x7fa32448bcd0>"
      ]
     },
     "execution_count": 8,
     "metadata": {},
     "output_type": "execute_result"
    }
   ],
   "source": [
    "x, y = Ints(\"x y\")\n",
    "\n",
    "Inv = Function(\"inv\", a.sort(), b.sort(), x.sort(), y.sort(), BoolSort())\n",
    "\n",
    "ls = [\n",
    "    Implies(And(b > 0), Inv(a, b, a, 0)),\n",
    "    Implies(And(Inv(a, b, x, y), y < b), Inv(a, b, x + 1, y + 1)),\n",
    "    Implies(And(Inv(a, b, x, y), y >= b, Not(x == a + b)), False)\n",
    "]\n",
    "\n",
    "chcs = CHCs(ls)\n",
    "chcs"
   ]
  },
  {
   "cell_type": "code",
   "execution_count": 9,
   "id": "ce666db1-6547-4149-afd9-e4b625adb0a3",
   "metadata": {
    "tags": []
   },
   "outputs": [
    {
     "data": {
      "text/html": [
       "<b>sat</b>"
      ],
      "text/plain": [
       "sat"
      ]
     },
     "execution_count": 9,
     "metadata": {},
     "output_type": "execute_result"
    }
   ],
   "source": [
    "s = chcs.create_solver()\n",
    "s.check()"
   ]
  },
  {
   "cell_type": "code",
   "execution_count": 10,
   "id": "1e839ca8-249b-44e1-8eae-f82c2c537f5a",
   "metadata": {},
   "outputs": [],
   "source": [
    "# tip: this can be useful if you want to write the Horn clauses to a file\n",
    "with open('simple.smt2', 'w') as f:\n",
    "    f.write(f'(set-logic HORN)\\n{s.to_smt2()}')"
   ]
  },
  {
   "cell_type": "markdown",
   "id": "59f7b747-cd43-474f-b6b2-42e511c07740",
   "metadata": {},
   "source": [
    "### Stack version: attempt #1"
   ]
  },
  {
   "cell_type": "code",
   "execution_count": 11,
   "id": "1cbe3061-79b1-4be7-8f7e-64b8621ca385",
   "metadata": {},
   "outputs": [
    {
     "data": {
      "text/html": [
       "<table style=\"background: white\"><tr><td style=\"text-align: left\">stack =\n",
       "Store(Store(Store(Store(K(Int, 0), 0, a), 1, b), 2, a),\n",
       "      3,\n",
       "      0) &and;\n",
       "sp = 4 &and;\n",
       "b &gt; 0 &rArr;\n",
       "inv(a, b, stack, sp)</td></tr><tr><td style=\"text-align: left\">inv(a,\n",
       "    b,\n",
       "    Store(Store(Store(Store(K(Int, 0), 0, a), 1, b), 2, x),\n",
       "          3,\n",
       "          y),\n",
       "    sp) &and;\n",
       "y &lt; b &rArr;\n",
       "inv(a,\n",
       "    b,\n",
       "    Store(Store(Store(Store(K(Int, 0), 0, a), 1, b),\n",
       "                2,\n",
       "                x + 1),\n",
       "          3,\n",
       "          y + 1),\n",
       "    sp)</td></tr><tr><td style=\"text-align: left\">inv(a,\n",
       "    b,\n",
       "    Store(Store(Store(Store(K(Int, 0), 0, a), 1, b), 2, x),\n",
       "          3,\n",
       "          y),\n",
       "    sp) &and;\n",
       "y &ge; b &rArr;\n",
       "x = a + b</td></tr></table>"
      ],
      "text/plain": [
       "<verification_utils.CHCs at 0x7fa32448b280>"
      ]
     },
     "execution_count": 11,
     "metadata": {},
     "output_type": "execute_result"
    }
   ],
   "source": [
    "x, y = Ints(\"x y\")\n",
    "Inv = Function(\"inv\", a.sort(), b.sort(), stack.sort(), sp.sort(), BoolSort())\n",
    "\n",
    "chcs = CHCs([\n",
    "    Implies(And(stack == mk_int_array([a,b,a,0]), sp == 4, b > 0), Inv(sigma)),\n",
    "    Implies(And(Inv(a, b, mk_int_array([a, b, x, y]), sp), y < b),\n",
    "            Inv(a, b, mk_int_array([a, b, x + 1, y + 1]), sp)),\n",
    "    Implies(And(Inv(a, b, mk_int_array([a, b, x, y]), sp), y >= b), x == a + b)\n",
    "])\n",
    "    \n",
    "chcs"
   ]
  },
  {
   "cell_type": "code",
   "execution_count": 12,
   "id": "418771e3-1c9d-4bcf-ada1-041231c2cbb0",
   "metadata": {},
   "outputs": [
    {
     "name": "stdout",
     "output_type": "stream",
     "text": [
      "CPU times: user 29.8 s, sys: 51.1 ms, total: 29.8 s\n",
      "Wall time: 32.3 s\n"
     ]
    },
    {
     "data": {
      "text/html": [
       "<b>unknown</b>"
      ],
      "text/plain": [
       "unknown"
      ]
     },
     "execution_count": 12,
     "metadata": {},
     "output_type": "execute_result"
    }
   ],
   "source": [
    "s = chcs.create_solver()\n",
    "#s.set('xform.inline_eager', False)\n",
    "#s.set('xform.inline_linear', False)\n",
    "s.set(timeout=10000)\n",
    "%time s.check()"
   ]
  },
  {
   "cell_type": "markdown",
   "id": "0d08b3a4-19ff-46d4-b1ef-dd17f484b5a8",
   "metadata": {},
   "source": [
    "This did not work. The explicit array creation seems to be too much for Spacer to solve. While it is hard to find the root cause of the divergence, we might wish to explore alternative encodings of the problem.\n",
    "\n",
    "## Stack version: attempt #2\n",
    "\n",
    "Here we use two input variables `a`, `b` and a stack for the temp vars. `x` is stored at `stack[0]` and `y` is stored at `stack[1]`."
   ]
  },
  {
   "cell_type": "code",
   "execution_count": 13,
   "id": "cb451eda-a7af-47ec-8eca-a8d5da564d64",
   "metadata": {},
   "outputs": [
    {
     "data": {
      "text/html": [
       "<table style=\"background: white\"><tr><td style=\"text-align: left\">b &gt; 0 &and; stack[0] = a &and; stack[1] = 0 &rArr; inv(a, b, stack)</td></tr><tr><td style=\"text-align: left\">inv(a, b, stack) &and; stack[0] = x &and; stack[1] = y &and; y &lt; b &rArr;\n",
       "inv(a, b, Store(Store(stack, 0, x + 1), 1, y + 1))</td></tr><tr><td style=\"text-align: left\">inv(a, b, stack) &and; stack[0] = x &and; stack[1] = y &and; y &ge; b &rArr;\n",
       "x = a + b</td></tr></table>"
      ],
      "text/plain": [
       "<verification_utils.CHCs at 0x7fa33f91a440>"
      ]
     },
     "execution_count": 13,
     "metadata": {},
     "output_type": "execute_result"
    }
   ],
   "source": [
    "Inv = Function('inv', a.sort(), b.sort(), stack.sort(), BoolSort())\n",
    "\n",
    "chcs = CHCs([\n",
    "    Implies(And(b > 0, stack[0] == a, stack[1] == 0), Inv(a, b, stack)),\n",
    "    Implies(And(Inv(a, b, stack), stack[0] == x, stack[1] == y, y < b), Inv(a, b, Store(Store(stack, 0, x + 1), 1, y + 1))),\n",
    "    Implies(And(Inv(a, b, stack), stack[0] == x, stack[1] == y, y >= b), x == a + b)\n",
    "])\n",
    "chcs"
   ]
  },
  {
   "cell_type": "code",
   "execution_count": 14,
   "id": "0e818bbb-e5a3-4037-a01b-8e7494ecc063",
   "metadata": {},
   "outputs": [
    {
     "data": {
      "text/html": [
       "<b>sat</b>"
      ],
      "text/plain": [
       "sat"
      ]
     },
     "execution_count": 14,
     "metadata": {},
     "output_type": "execute_result"
    }
   ],
   "source": [
    "s = chcs.create_solver()\n",
    "#s.set('xform.inline_eager', False)\n",
    "#s.set('xform.inline_linear', False)\n",
    "(res := s.check())"
   ]
  },
  {
   "cell_type": "code",
   "execution_count": 15,
   "id": "ede69cce-f9f5-4926-85e8-d8cd0456aa41",
   "metadata": {},
   "outputs": [
    {
     "data": {
      "text/html": [
       "[inv = [else &rarr;\n",
       "        &not;(&#957;<sub>1</sub> + -1&middot;&#957;<sub>2</sub>[0] + &#957;<sub>0</sub> &le; -1) &and;\n",
       "        &not;(&#957;<sub>2</sub>[0] + -1&middot;&#957;<sub>0</sub> + -1&middot;&#957;<sub>2</sub>[1] &le; -1) &and;\n",
       "        &not;(&#957;<sub>2</sub>[0] + -1&middot;&#957;<sub>0</sub> + -1&middot;&#957;<sub>2</sub>[1] &ge; 1)]]"
      ],
      "text/plain": [
       "[inv = [else ->\n",
       "        And(Not(Var(1) + -1*Var(2)[0] + Var(0) <= -1),\n",
       "            Not(Var(2)[0] + -1*Var(0) + -1*Var(2)[1] <= -1),\n",
       "            Not(Var(2)[0] + -1*Var(0) + -1*Var(2)[1] >= 1))]]"
      ]
     },
     "execution_count": 15,
     "metadata": {},
     "output_type": "execute_result"
    }
   ],
   "source": [
    "s.model()     if res == sat else None"
   ]
  },
  {
   "cell_type": "code",
   "execution_count": 16,
   "id": "e921738c-22d7-4558-afd6-787a1a45d42d",
   "metadata": {},
   "outputs": [],
   "source": [
    "# If the property is invalid, the return value is `unsat`.\n",
    "# In this case, a \"proof\" is generated by the solver and can be used to understand the failure.\n",
    "from verification_utils import HyperResolutionProof\n",
    "HyperResolutionProof(s.proof()).to_roadmap()    if res == unsat else None"
   ]
  },
  {
   "cell_type": "markdown",
   "id": "5ee6ff30-a406-4399-ad05-7dc7234d5d19",
   "metadata": {},
   "source": [
    "Cool. Now let's make it gradually more realistic by expressing our proper stack semantics.\n",
    "\n",
    "## Stack version: using `sp`\n",
    "Very similar to before, but variable offsets are relative to `sp`, like in StaM."
   ]
  },
  {
   "cell_type": "code",
   "execution_count": 17,
   "id": "39b001e6-a28c-4202-9034-aebf5adb3114",
   "metadata": {},
   "outputs": [
    {
     "data": {
      "text/html": [
       "<table style=\"background: white\"><tr><td style=\"text-align: left\">b &gt; 0 &and; stack[sp - 2] = a &and; stack[sp - 1] = 0 &rArr;\n",
       "inv(a, b, stack, sp)</td></tr><tr><td style=\"text-align: left\">inv(a, b, stack, sp) &and;\n",
       "stack[sp - 2] = x &and;\n",
       "stack[sp - 1] = y &and;\n",
       "y &lt; b &rArr;\n",
       "inv(a,\n",
       "    b,\n",
       "    Store(Store(stack, sp - 2, x + 1), sp - 1, y + 1),\n",
       "    sp)</td></tr><tr><td style=\"text-align: left\">inv(a, b, stack, sp) &and;\n",
       "stack[sp - 2] = x &and;\n",
       "stack[sp - 1] = y &and;\n",
       "y &ge; b &rArr;\n",
       "x = a + b</td></tr></table>"
      ],
      "text/plain": [
       "<verification_utils.CHCs at 0x7fa32448b400>"
      ]
     },
     "execution_count": 17,
     "metadata": {},
     "output_type": "execute_result"
    }
   ],
   "source": [
    "Inv = Function('inv', a.sort(), b.sort(), stack.sort(), sp.sort(), BoolSort())\n",
    "\n",
    "chcs = CHCs([\n",
    "    Implies(And(b > 0, stack[sp - 2] == a, stack[sp - 1] == 0), Inv(a, b, stack, sp)),\n",
    "    Implies(And(Inv(a, b, stack, sp), stack[sp - 2] == x, stack[sp - 1] == y, y < b),\n",
    "            Inv(a, b, Store(Store(stack, sp - 2, x + 1), sp - 1, y + 1), sp)),\n",
    "    Implies(And(Inv(a, b, stack, sp), stack[sp - 2] == x, stack[sp - 1] == y, y >= b), x == a + b)\n",
    "])\n",
    "chcs"
   ]
  },
  {
   "cell_type": "code",
   "execution_count": 18,
   "id": "a985a751-5264-43b0-b081-bcd45146c435",
   "metadata": {},
   "outputs": [
    {
     "data": {
      "text/html": [
       "<b>sat</b>"
      ],
      "text/plain": [
       "sat"
      ]
     },
     "execution_count": 18,
     "metadata": {},
     "output_type": "execute_result"
    }
   ],
   "source": [
    "s = chcs.create_solver()\n",
    "(res := s.check())"
   ]
  },
  {
   "cell_type": "code",
   "execution_count": 19,
   "id": "75b66dfc-18fb-45e0-b170-39bb11142a92",
   "metadata": {},
   "outputs": [
    {
     "data": {
      "text/html": [
       "[inv = [else &rarr;\n",
       "        &not;(&#957;<sub>2</sub>[-2 + &#957;<sub>3</sub>] + -1&middot;&#957;<sub>2</sub>[-1 + &#957;<sub>3</sub>] + -1&middot;&#957;<sub>0</sub> &le; -1) &and;\n",
       "        &not;(&#957;<sub>2</sub>[-2 + &#957;<sub>3</sub>] + -1&middot;&#957;<sub>0</sub> + -1&middot;&#957;<sub>1</sub> &ge; 1) &and;\n",
       "        &not;(&#957;<sub>2</sub>[-2 + &#957;<sub>3</sub>] + -1&middot;&#957;<sub>2</sub>[-1 + &#957;<sub>3</sub>] + -1&middot;&#957;<sub>0</sub> &ge; 1)]]"
      ],
      "text/plain": [
       "[inv = [else ->\n",
       "        And(Not(Var(2)[-2 + Var(3)] +\n",
       "                -1*Var(2)[-1 + Var(3)] +\n",
       "                -1*Var(0) <=\n",
       "                -1),\n",
       "            Not(Var(2)[-2 + Var(3)] + -1*Var(0) + -1*Var(1) >=\n",
       "                1),\n",
       "            Not(Var(2)[-2 + Var(3)] +\n",
       "                -1*Var(2)[-1 + Var(3)] +\n",
       "                -1*Var(0) >=\n",
       "                1))]]"
      ]
     },
     "execution_count": 19,
     "metadata": {},
     "output_type": "execute_result"
    }
   ],
   "source": [
    "HyperResolutionProof(s.proof()).to_roadmap()    if res == unsat else s.model()"
   ]
  },
  {
   "cell_type": "markdown",
   "id": "52fd0932-dd3b-4e4a-8e7b-b5f0a849f88b",
   "metadata": {},
   "source": [
    "## Stack version: all in the stack\n",
    "Also similar, but the input arguments `a` and `b` are now also stored on the stack."
   ]
  },
  {
   "cell_type": "code",
   "execution_count": 20,
   "id": "3889e2ab-ec96-4fbc-8f2a-bbc7be2a55b7",
   "metadata": {},
   "outputs": [
    {
     "data": {
      "text/html": [
       "<table style=\"background: white\"><tr><td style=\"text-align: left\">stack[sp - 4] = a &and;\n",
       "stack[sp - 3] = b &and;\n",
       "b &gt; 0 &and;\n",
       "stack[sp - 2] = a &and;\n",
       "stack[sp - 1] = 0 &rArr;\n",
       "inv(stack, sp)</td></tr><tr><td style=\"text-align: left\">stack[sp - 4] = a &and;\n",
       "stack[sp - 3] = b &and;\n",
       "inv(stack, sp) &and;\n",
       "stack[sp - 2] = x &and;\n",
       "stack[sp - 1] = y &and;\n",
       "y &lt; b &rArr;\n",
       "inv(Store(Store(stack, sp - 2, x + 1), sp - 1, y + 1), sp)</td></tr><tr><td style=\"text-align: left\">stack[sp - 4] = a &and;\n",
       "stack[sp - 3] = b &and;\n",
       "inv(stack, sp) &and;\n",
       "stack[sp - 2] = x &and;\n",
       "stack[sp - 1] = y &and;\n",
       "y &ge; b &rArr;\n",
       "x = a + b</td></tr></table>"
      ],
      "text/plain": [
       "<verification_utils.CHCs at 0x7fa3244b0310>"
      ]
     },
     "execution_count": 20,
     "metadata": {},
     "output_type": "execute_result"
    }
   ],
   "source": [
    "Inv = Function('inv', stack.sort(), sp.sort(), BoolSort())\n",
    "\n",
    "p = And(stack[sp - 4] == a, stack[sp - 3] == b)\n",
    "\n",
    "chcs = CHCs([\n",
    "    Implies(And(p, b > 0, stack[sp - 2] == a, stack[sp - 1] == 0), Inv(stack, sp)),\n",
    "    Implies(And(p, Inv(stack, sp), stack[sp - 2] == x, stack[sp - 1] == y, y < b),\n",
    "            Inv(Store(Store(stack, sp - 2, x + 1), sp - 1, y + 1), sp)),\n",
    "    Implies(And(p, Inv(stack, sp), stack[sp - 2] == x, stack[sp - 1] == y, y >= b), x == a + b)\n",
    "])\n",
    "chcs"
   ]
  },
  {
   "cell_type": "code",
   "execution_count": 21,
   "id": "a6c1dc2b-a452-40e6-b1e6-58be91eeb46f",
   "metadata": {},
   "outputs": [
    {
     "data": {
      "text/html": [
       "<b>sat</b>"
      ],
      "text/plain": [
       "sat"
      ]
     },
     "execution_count": 21,
     "metadata": {},
     "output_type": "execute_result"
    }
   ],
   "source": [
    "s = chcs.create_solver()\n",
    "(res := s.check())"
   ]
  },
  {
   "cell_type": "code",
   "execution_count": 22,
   "id": "51372969-250a-4b94-8c80-71dbc2ac7da2",
   "metadata": {},
   "outputs": [
    {
     "data": {
      "text/html": [
       "[inv = [else &rarr;\n",
       "        &not;(&#957;<sub>0</sub>[-3 + &#957;<sub>1</sub>] + -1&middot;&#957;<sub>0</sub>[-2 + &#957;<sub>1</sub>] + &#957;<sub>0</sub>[-4 + &#957;<sub>1</sub>] &le; -1) &and;\n",
       "        &not;(&#957;<sub>0</sub>[-2 + &#957;<sub>1</sub>] + -1&middot;&#957;<sub>0</sub>[-4 + &#957;<sub>1</sub>] + -1&middot;&#957;<sub>0</sub>[-1 + &#957;<sub>1</sub>] &le; -1) &and;\n",
       "        &not;(&#957;<sub>0</sub>[-2 + &#957;<sub>1</sub>] + -1&middot;&#957;<sub>0</sub>[-4 + &#957;<sub>1</sub>] + -1&middot;&#957;<sub>0</sub>[-1 + &#957;<sub>1</sub>] &ge; 1)]]"
      ],
      "text/plain": [
       "[inv = [else ->\n",
       "        And(Not(Var(0)[-3 + Var(1)] +\n",
       "                -1*Var(0)[-2 + Var(1)] +\n",
       "                Var(0)[-4 + Var(1)] <=\n",
       "                -1),\n",
       "            Not(Var(0)[-2 + Var(1)] +\n",
       "                -1*Var(0)[-4 + Var(1)] +\n",
       "                -1*Var(0)[-1 + Var(1)] <=\n",
       "                -1),\n",
       "            Not(Var(0)[-2 + Var(1)] +\n",
       "                -1*Var(0)[-4 + Var(1)] +\n",
       "                -1*Var(0)[-1 + Var(1)] >=\n",
       "                1))]]"
      ]
     },
     "execution_count": 22,
     "metadata": {},
     "output_type": "execute_result"
    }
   ],
   "source": [
    "HyperResolutionProof(s.proof()).to_roadmap()    if res == unsat else s.model()"
   ]
  },
  {
   "cell_type": "markdown",
   "id": "cf250a67-3fe4-4b26-8067-08036ac9320a",
   "metadata": {},
   "source": [
    "## Stack version: money time; doing it in assembly\n",
    "\n",
    "Now let's write the function's implementation in StASM, and observe the CHCs that encode its behavior. Here we do the translation manually. In your project, you will generate those clauses automatically from the StASM code."
   ]
  },
  {
   "cell_type": "code",
   "execution_count": 23,
   "id": "0554729a-a078-48fa-9d6e-bbb256c2c000",
   "metadata": {},
   "outputs": [
    {
     "data": {
      "text/html": [
       "<table style=\"background: white\"><tr><td style=\"text-align: left\">stack[sp - 1] &gt; 0 &rArr; U0(stack, sp)</td></tr><tr><td style=\"text-align: left\">U0(stack, sp) &rArr;\n",
       "U1(Store(Store(stack, sp, stack[sp - 2]), sp + 1, 0),\n",
       "   sp + 2)</td></tr><tr><td style=\"text-align: left\">U1(stack, sp) &rArr;\n",
       "U2(Store(Store(stack, sp, stack[sp - 1]),\n",
       "         sp + 1,\n",
       "         stack[sp - 3]),\n",
       "   sp + 2)</td></tr><tr><td style=\"text-align: left\">U2(stack, sp) &and; stack[sp - 2] &lt; stack[sp - 1] &rArr;\n",
       "U3(stack, sp - 2)</td></tr><tr><td style=\"text-align: left\">U2(stack, sp) &and; stack[sp - 2] &ge; stack[sp - 1] &rArr;\n",
       "U7(stack, sp - 2)</td></tr><tr><td style=\"text-align: left\">U3(stack, sp) &rArr;\n",
       "U4(Store(stack, sp, stack[sp - 2] + 1), sp + 1)</td></tr><tr><td style=\"text-align: left\">U4(stack, sp) &rArr;\n",
       "U5(Store(stack, sp, stack[sp - 2] + 1), sp + 1)</td></tr><tr><td style=\"text-align: left\">U5(stack, sp) &rArr;\n",
       "U6(Store(Store(stack, sp - 4, stack[sp - 2]),\n",
       "         sp - 3,\n",
       "         stack[sp - 1]),\n",
       "   sp - 2)</td></tr><tr><td style=\"text-align: left\">U6(stack, sp) &rArr; U1(stack, sp)</td></tr><tr><td style=\"text-align: left\">U7(stack, sp) &rArr; U8(stack, sp - 1)</td></tr><tr><td style=\"text-align: left\">U8(stack, sp) &rArr;\n",
       "stack[sp - 1] = stack[sp - 3] + 2&middot;stack[sp - 2]</td></tr></table>"
      ],
      "text/plain": [
       "<verification_utils.CHCs at 0x7fa33f879900>"
      ]
     },
     "execution_count": 23,
     "metadata": {},
     "output_type": "execute_result"
    }
   ],
   "source": [
    "\"\"\"\n",
    "{  stack= [a, b] ∧ b > 0 }\n",
    "  DUP 1\n",
    "  PUSH 0\n",
    "loop:\n",
    "  DUP; DUP 2; POP 2; ALU LT; POP 1; JZ exit\n",
    "  DUP 1; PUSH 1; POP 2; ALU ADD\n",
    "  DUP 1; PUSH 1; POP 2; ALU ADD\n",
    "  YANK 2,2\n",
    "  JMP loop\n",
    "exit:\n",
    "  POP 1\n",
    "{ stack = [a, b, a + b] }\n",
    "\"\"\"\n",
    "\n",
    "sigma = [*state_vars]\n",
    "\n",
    "U = {i: Function(f\"U{i}\", *(v.sort() for v in sigma), BoolSort())\n",
    "     for i in range(9)}\n",
    "\n",
    "chcs = CHCs([\n",
    "    # assume { stack = [a, b] ∧ b > 0 }\n",
    "    Implies(stack[sp - 1] > 0, U[0](sigma)),\n",
    "    # DUP 1; PUSH 0\n",
    "    Implies(U[0](sigma), U[1](Store(Store(stack, sp, stack[sp - 2]), sp + 1, 0), sp + 2)),\n",
    "    # DUP; DUP 2\n",
    "    Implies(U[1](sigma), U[2](Store(Store(stack, sp, stack[sp - 1]), sp + 1, stack[sp - 3]), sp + 2)),\n",
    "    # POP 2; ALU LT; POP 1; JZ exit\n",
    "    Implies(And(U[2](sigma), stack[sp - 2] < stack[sp - 1]), U[3](stack, sp - 2)),\n",
    "    Implies(And(U[2](sigma), stack[sp - 2] >= stack[sp - 1]), U[7](stack, sp - 2)),\n",
    "    # DUP 1; PUSH 1; POP 2; ALU ADD\n",
    "    Implies(U[3](sigma), U[4](Store(stack, sp, stack[sp - 2] + 1), sp + 1)),\n",
    "    # DUP 1; PUSH 1; POP 2; ALU ADD\n",
    "    Implies(U[4](sigma), U[5](Store(stack, sp, stack[sp - 2] + 1), sp + 1)),\n",
    "    # YANK 2,2\n",
    "    Implies(U[5](sigma), U[6](Store(Store(stack, sp - 4, stack[sp - 2]), sp - 3, stack[sp - 1]), sp - 2)),\n",
    "    # JMP loop\n",
    "    Implies(U[6](sigma), U[1](sigma)),\n",
    "    # exit:\n",
    "    # POP 1\n",
    "    Implies(U[7](sigma), U[8](stack, sp - 1)),\n",
    "    # assert { stack = [a, b, a + b] }\n",
    "    Implies(U[8](sigma), stack[sp - 1] == stack[sp - 3] + stack[sp - 2])\n",
    "])\n",
    "chcs"
   ]
  },
  {
   "cell_type": "code",
   "execution_count": 24,
   "id": "bad7fb81-0948-4908-941b-001b772c99cc",
   "metadata": {},
   "outputs": [
    {
     "name": "stdout",
     "output_type": "stream",
     "text": [
      "CPU times: user 52.6 ms, sys: 18.4 ms, total: 71 ms\n",
      "Wall time: 76.9 ms\n"
     ]
    },
    {
     "data": {
      "text/html": [
       "<b>unsat</b>"
      ],
      "text/plain": [
       "unsat"
      ]
     },
     "execution_count": 24,
     "metadata": {},
     "output_type": "execute_result"
    }
   ],
   "source": [
    "s = chcs.create_solver()\n",
    "#s.set('xform.inline_eager', False)\n",
    "#s.set('xform.inline_linear', False)\n",
    "%time (res := s.check())"
   ]
  },
  {
   "cell_type": "code",
   "execution_count": 25,
   "id": "53ecd8c3-fd99-4752-9dbd-88ecb8770583",
   "metadata": {},
   "outputs": [
    {
     "ename": "ExecutableNotFound",
     "evalue": "failed to execute PosixPath('dot'), make sure the Graphviz executables are on your systems' PATH",
     "output_type": "error",
     "traceback": [
      "\u001b[0;31m---------------------------------------------------------------------------\u001b[0m",
      "\u001b[0;31mFileNotFoundError\u001b[0m                         Traceback (most recent call last)",
      "File \u001b[0;32m~/venv/lib/python3.10/site-packages/graphviz/backend/execute.py:79\u001b[0m, in \u001b[0;36mrun_check\u001b[0;34m(cmd, input_lines, encoding, quiet, **kwargs)\u001b[0m\n\u001b[1;32m     78\u001b[0m         kwargs[\u001b[38;5;124m'\u001b[39m\u001b[38;5;124mstdout\u001b[39m\u001b[38;5;124m'\u001b[39m] \u001b[38;5;241m=\u001b[39m kwargs[\u001b[38;5;124m'\u001b[39m\u001b[38;5;124mstderr\u001b[39m\u001b[38;5;124m'\u001b[39m] \u001b[38;5;241m=\u001b[39m subprocess\u001b[38;5;241m.\u001b[39mPIPE\n\u001b[0;32m---> 79\u001b[0m     proc \u001b[38;5;241m=\u001b[39m \u001b[43m_run_input_lines\u001b[49m\u001b[43m(\u001b[49m\u001b[43mcmd\u001b[49m\u001b[43m,\u001b[49m\u001b[43m \u001b[49m\u001b[43minput_lines\u001b[49m\u001b[43m,\u001b[49m\u001b[43m \u001b[49m\u001b[43mkwargs\u001b[49m\u001b[38;5;241;43m=\u001b[39;49m\u001b[43mkwargs\u001b[49m\u001b[43m)\u001b[49m\n\u001b[1;32m     80\u001b[0m \u001b[38;5;28;01melse\u001b[39;00m:\n",
      "File \u001b[0;32m~/venv/lib/python3.10/site-packages/graphviz/backend/execute.py:99\u001b[0m, in \u001b[0;36m_run_input_lines\u001b[0;34m(cmd, input_lines, kwargs)\u001b[0m\n\u001b[1;32m     98\u001b[0m \u001b[38;5;28;01mdef\u001b[39;00m \u001b[38;5;21m_run_input_lines\u001b[39m(cmd, input_lines, \u001b[38;5;241m*\u001b[39m, kwargs):\n\u001b[0;32m---> 99\u001b[0m     popen \u001b[38;5;241m=\u001b[39m \u001b[43msubprocess\u001b[49m\u001b[38;5;241;43m.\u001b[39;49m\u001b[43mPopen\u001b[49m\u001b[43m(\u001b[49m\u001b[43mcmd\u001b[49m\u001b[43m,\u001b[49m\u001b[43m \u001b[49m\u001b[43mstdin\u001b[49m\u001b[38;5;241;43m=\u001b[39;49m\u001b[43msubprocess\u001b[49m\u001b[38;5;241;43m.\u001b[39;49m\u001b[43mPIPE\u001b[49m\u001b[43m,\u001b[49m\u001b[43m \u001b[49m\u001b[38;5;241;43m*\u001b[39;49m\u001b[38;5;241;43m*\u001b[39;49m\u001b[43mkwargs\u001b[49m\u001b[43m)\u001b[49m\n\u001b[1;32m    101\u001b[0m     stdin_write \u001b[38;5;241m=\u001b[39m popen\u001b[38;5;241m.\u001b[39mstdin\u001b[38;5;241m.\u001b[39mwrite\n",
      "File \u001b[0;32m/usr/lib/python3.10/subprocess.py:971\u001b[0m, in \u001b[0;36mPopen.__init__\u001b[0;34m(self, args, bufsize, executable, stdin, stdout, stderr, preexec_fn, close_fds, shell, cwd, env, universal_newlines, startupinfo, creationflags, restore_signals, start_new_session, pass_fds, user, group, extra_groups, encoding, errors, text, umask, pipesize)\u001b[0m\n\u001b[1;32m    968\u001b[0m             \u001b[38;5;28mself\u001b[39m\u001b[38;5;241m.\u001b[39mstderr \u001b[38;5;241m=\u001b[39m io\u001b[38;5;241m.\u001b[39mTextIOWrapper(\u001b[38;5;28mself\u001b[39m\u001b[38;5;241m.\u001b[39mstderr,\n\u001b[1;32m    969\u001b[0m                     encoding\u001b[38;5;241m=\u001b[39mencoding, errors\u001b[38;5;241m=\u001b[39merrors)\n\u001b[0;32m--> 971\u001b[0m     \u001b[38;5;28;43mself\u001b[39;49m\u001b[38;5;241;43m.\u001b[39;49m\u001b[43m_execute_child\u001b[49m\u001b[43m(\u001b[49m\u001b[43margs\u001b[49m\u001b[43m,\u001b[49m\u001b[43m \u001b[49m\u001b[43mexecutable\u001b[49m\u001b[43m,\u001b[49m\u001b[43m \u001b[49m\u001b[43mpreexec_fn\u001b[49m\u001b[43m,\u001b[49m\u001b[43m \u001b[49m\u001b[43mclose_fds\u001b[49m\u001b[43m,\u001b[49m\n\u001b[1;32m    972\u001b[0m \u001b[43m                        \u001b[49m\u001b[43mpass_fds\u001b[49m\u001b[43m,\u001b[49m\u001b[43m \u001b[49m\u001b[43mcwd\u001b[49m\u001b[43m,\u001b[49m\u001b[43m \u001b[49m\u001b[43menv\u001b[49m\u001b[43m,\u001b[49m\n\u001b[1;32m    973\u001b[0m \u001b[43m                        \u001b[49m\u001b[43mstartupinfo\u001b[49m\u001b[43m,\u001b[49m\u001b[43m \u001b[49m\u001b[43mcreationflags\u001b[49m\u001b[43m,\u001b[49m\u001b[43m \u001b[49m\u001b[43mshell\u001b[49m\u001b[43m,\u001b[49m\n\u001b[1;32m    974\u001b[0m \u001b[43m                        \u001b[49m\u001b[43mp2cread\u001b[49m\u001b[43m,\u001b[49m\u001b[43m \u001b[49m\u001b[43mp2cwrite\u001b[49m\u001b[43m,\u001b[49m\n\u001b[1;32m    975\u001b[0m \u001b[43m                        \u001b[49m\u001b[43mc2pread\u001b[49m\u001b[43m,\u001b[49m\u001b[43m \u001b[49m\u001b[43mc2pwrite\u001b[49m\u001b[43m,\u001b[49m\n\u001b[1;32m    976\u001b[0m \u001b[43m                        \u001b[49m\u001b[43merrread\u001b[49m\u001b[43m,\u001b[49m\u001b[43m \u001b[49m\u001b[43merrwrite\u001b[49m\u001b[43m,\u001b[49m\n\u001b[1;32m    977\u001b[0m \u001b[43m                        \u001b[49m\u001b[43mrestore_signals\u001b[49m\u001b[43m,\u001b[49m\n\u001b[1;32m    978\u001b[0m \u001b[43m                        \u001b[49m\u001b[43mgid\u001b[49m\u001b[43m,\u001b[49m\u001b[43m \u001b[49m\u001b[43mgids\u001b[49m\u001b[43m,\u001b[49m\u001b[43m \u001b[49m\u001b[43muid\u001b[49m\u001b[43m,\u001b[49m\u001b[43m \u001b[49m\u001b[43mumask\u001b[49m\u001b[43m,\u001b[49m\n\u001b[1;32m    979\u001b[0m \u001b[43m                        \u001b[49m\u001b[43mstart_new_session\u001b[49m\u001b[43m)\u001b[49m\n\u001b[1;32m    980\u001b[0m \u001b[38;5;28;01mexcept\u001b[39;00m:\n\u001b[1;32m    981\u001b[0m     \u001b[38;5;66;03m# Cleanup if the child failed starting.\u001b[39;00m\n",
      "File \u001b[0;32m/usr/lib/python3.10/subprocess.py:1863\u001b[0m, in \u001b[0;36mPopen._execute_child\u001b[0;34m(self, args, executable, preexec_fn, close_fds, pass_fds, cwd, env, startupinfo, creationflags, shell, p2cread, p2cwrite, c2pread, c2pwrite, errread, errwrite, restore_signals, gid, gids, uid, umask, start_new_session)\u001b[0m\n\u001b[1;32m   1862\u001b[0m         err_msg \u001b[38;5;241m=\u001b[39m os\u001b[38;5;241m.\u001b[39mstrerror(errno_num)\n\u001b[0;32m-> 1863\u001b[0m     \u001b[38;5;28;01mraise\u001b[39;00m child_exception_type(errno_num, err_msg, err_filename)\n\u001b[1;32m   1864\u001b[0m \u001b[38;5;28;01mraise\u001b[39;00m child_exception_type(err_msg)\n",
      "\u001b[0;31mFileNotFoundError\u001b[0m: [Errno 2] No such file or directory: PosixPath('dot')",
      "\nThe above exception was the direct cause of the following exception:\n",
      "\u001b[0;31mExecutableNotFound\u001b[0m                        Traceback (most recent call last)",
      "File \u001b[0;32m~/venv/lib/python3.10/site-packages/IPython/core/formatters.py:344\u001b[0m, in \u001b[0;36mBaseFormatter.__call__\u001b[0;34m(self, obj)\u001b[0m\n\u001b[1;32m    342\u001b[0m     method \u001b[38;5;241m=\u001b[39m get_real_method(obj, \u001b[38;5;28mself\u001b[39m\u001b[38;5;241m.\u001b[39mprint_method)\n\u001b[1;32m    343\u001b[0m     \u001b[38;5;28;01mif\u001b[39;00m method \u001b[38;5;129;01mis\u001b[39;00m \u001b[38;5;129;01mnot\u001b[39;00m \u001b[38;5;28;01mNone\u001b[39;00m:\n\u001b[0;32m--> 344\u001b[0m         \u001b[38;5;28;01mreturn\u001b[39;00m \u001b[43mmethod\u001b[49m\u001b[43m(\u001b[49m\u001b[43m)\u001b[49m\n\u001b[1;32m    345\u001b[0m     \u001b[38;5;28;01mreturn\u001b[39;00m \u001b[38;5;28;01mNone\u001b[39;00m\n\u001b[1;32m    346\u001b[0m \u001b[38;5;28;01melse\u001b[39;00m:\n",
      "File \u001b[0;32m~/techcs-236346/sw/verify/../../hw/base/presentation_forms.py:18\u001b[0m, in \u001b[0;36mtable_repr._repr_html_\u001b[0;34m(self)\u001b[0m\n\u001b[1;32m     17\u001b[0m \u001b[38;5;28;01mdef\u001b[39;00m \u001b[38;5;21m_repr_html_\u001b[39m(\u001b[38;5;28mself\u001b[39m):\n\u001b[0;32m---> 18\u001b[0m     \u001b[38;5;28;01mreturn\u001b[39;00m \u001b[38;5;124mf\u001b[39m\u001b[38;5;124m'\u001b[39m\u001b[38;5;124m<table style=\u001b[39m\u001b[38;5;124m\"\u001b[39m\u001b[38;5;124mbackground: white\u001b[39m\u001b[38;5;124m\"\u001b[39m\u001b[38;5;124m>\u001b[39m\u001b[38;5;132;01m{\u001b[39;00m\u001b[38;5;124;43m\"\u001b[39;49m\u001b[38;5;124;43m\"\u001b[39;49m\u001b[38;5;241;43m.\u001b[39;49m\u001b[43mjoin\u001b[49m\u001b[43m(\u001b[49m\u001b[38;5;28;43mmap\u001b[39;49m\u001b[43m(\u001b[49m\u001b[38;5;28;43mself\u001b[39;49m\u001b[38;5;241;43m.\u001b[39;49m\u001b[43m_tr\u001b[49m\u001b[43m,\u001b[49m\u001b[38;5;250;43m \u001b[39;49m\u001b[38;5;28;43mself\u001b[39;49m\u001b[38;5;241;43m.\u001b[39;49m\u001b[43mrows\u001b[49m\u001b[43m)\u001b[49m\u001b[43m)\u001b[49m\u001b[38;5;132;01m}\u001b[39;00m\u001b[38;5;124m</table>\u001b[39m\u001b[38;5;124m'\u001b[39m\n",
      "File \u001b[0;32m~/techcs-236346/sw/verify/../../hw/base/presentation_forms.py:16\u001b[0m, in \u001b[0;36mtable_repr._tr\u001b[0;34m(self, data)\u001b[0m\n\u001b[1;32m     14\u001b[0m \u001b[38;5;28;01mif\u001b[39;00m \u001b[38;5;129;01mnot\u001b[39;00m (\u001b[38;5;28misinstance\u001b[39m(data, \u001b[38;5;28mlist\u001b[39m) \u001b[38;5;129;01mor\u001b[39;00m \u001b[38;5;28misinstance\u001b[39m(data, \u001b[38;5;28mtuple\u001b[39m)):\n\u001b[1;32m     15\u001b[0m     data \u001b[38;5;241m=\u001b[39m (data,)\n\u001b[0;32m---> 16\u001b[0m \u001b[38;5;28;01mreturn\u001b[39;00m \u001b[38;5;124mf\u001b[39m\u001b[38;5;124m'\u001b[39m\u001b[38;5;124m<tr>\u001b[39m\u001b[38;5;132;01m{\u001b[39;00m\u001b[38;5;124;43m\"\u001b[39;49m\u001b[38;5;124;43m\"\u001b[39;49m\u001b[38;5;241;43m.\u001b[39;49m\u001b[43mjoin\u001b[49m\u001b[43m(\u001b[49m\u001b[38;5;28;43mself\u001b[39;49m\u001b[38;5;241;43m.\u001b[39;49m\u001b[43m_td\u001b[49m\u001b[43m(\u001b[49m\u001b[43mv\u001b[49m\u001b[43m,\u001b[49m\u001b[38;5;250;43m \u001b[39;49m\u001b[43mi\u001b[49m\u001b[43m)\u001b[49m\u001b[38;5;250;43m \u001b[39;49m\u001b[38;5;28;43;01mfor\u001b[39;49;00m\u001b[38;5;250;43m \u001b[39;49m\u001b[43mi\u001b[49m\u001b[43m,\u001b[49m\u001b[38;5;250;43m \u001b[39;49m\u001b[43mv\u001b[49m\u001b[38;5;250;43m \u001b[39;49m\u001b[38;5;129;43;01min\u001b[39;49;00m\u001b[38;5;250;43m \u001b[39;49m\u001b[38;5;28;43menumerate\u001b[39;49m\u001b[43m(\u001b[49m\u001b[43mdata\u001b[49m\u001b[43m)\u001b[49m\u001b[43m)\u001b[49m\u001b[38;5;132;01m}\u001b[39;00m\u001b[38;5;124m</tr>\u001b[39m\u001b[38;5;124m'\u001b[39m\n",
      "File \u001b[0;32m~/techcs-236346/sw/verify/../../hw/base/presentation_forms.py:16\u001b[0m, in \u001b[0;36m<genexpr>\u001b[0;34m(.0)\u001b[0m\n\u001b[1;32m     14\u001b[0m \u001b[38;5;28;01mif\u001b[39;00m \u001b[38;5;129;01mnot\u001b[39;00m (\u001b[38;5;28misinstance\u001b[39m(data, \u001b[38;5;28mlist\u001b[39m) \u001b[38;5;129;01mor\u001b[39;00m \u001b[38;5;28misinstance\u001b[39m(data, \u001b[38;5;28mtuple\u001b[39m)):\n\u001b[1;32m     15\u001b[0m     data \u001b[38;5;241m=\u001b[39m (data,)\n\u001b[0;32m---> 16\u001b[0m \u001b[38;5;28;01mreturn\u001b[39;00m \u001b[38;5;124mf\u001b[39m\u001b[38;5;124m'\u001b[39m\u001b[38;5;124m<tr>\u001b[39m\u001b[38;5;132;01m{\u001b[39;00m\u001b[38;5;124m\"\u001b[39m\u001b[38;5;124m\"\u001b[39m\u001b[38;5;241m.\u001b[39mjoin(\u001b[38;5;28;43mself\u001b[39;49m\u001b[38;5;241;43m.\u001b[39;49m\u001b[43m_td\u001b[49m\u001b[43m(\u001b[49m\u001b[43mv\u001b[49m\u001b[43m,\u001b[49m\u001b[38;5;250;43m \u001b[39;49m\u001b[43mi\u001b[49m\u001b[43m)\u001b[49m\u001b[38;5;250m \u001b[39m\u001b[38;5;28;01mfor\u001b[39;00m\u001b[38;5;250m \u001b[39mi,\u001b[38;5;250m \u001b[39mv\u001b[38;5;250m \u001b[39m\u001b[38;5;129;01min\u001b[39;00m\u001b[38;5;250m \u001b[39m\u001b[38;5;28menumerate\u001b[39m(data))\u001b[38;5;132;01m}\u001b[39;00m\u001b[38;5;124m</tr>\u001b[39m\u001b[38;5;124m'\u001b[39m\n",
      "File \u001b[0;32m~/techcs-236346/sw/verify/../../hw/base/presentation_forms.py:12\u001b[0m, in \u001b[0;36mtable_repr._td\u001b[0;34m(self, obj, col_index)\u001b[0m\n\u001b[1;32m     10\u001b[0m \u001b[38;5;28;01mdef\u001b[39;00m \u001b[38;5;21m_td\u001b[39m(\u001b[38;5;28mself\u001b[39m, obj, col_index):\n\u001b[1;32m     11\u001b[0m     style \u001b[38;5;241m=\u001b[39m \u001b[38;5;124m\"\u001b[39m\u001b[38;5;124m;\u001b[39m\u001b[38;5;124m\"\u001b[39m\u001b[38;5;241m.\u001b[39mjoin(x \u001b[38;5;28;01mfor\u001b[39;00m x \u001b[38;5;129;01min\u001b[39;00m [\u001b[38;5;28mself\u001b[39m\u001b[38;5;241m.\u001b[39mtd_style, \u001b[38;5;28mself\u001b[39m\u001b[38;5;241m.\u001b[39mcol_styles\u001b[38;5;241m.\u001b[39mget(col_index, \u001b[38;5;28;01mNone\u001b[39;00m)] \u001b[38;5;28;01mif\u001b[39;00m x)\n\u001b[0;32m---> 12\u001b[0m     \u001b[38;5;28;01mreturn\u001b[39;00m \u001b[38;5;124mf\u001b[39m\u001b[38;5;124m'\u001b[39m\u001b[38;5;124m<td style=\u001b[39m\u001b[38;5;124m\"\u001b[39m\u001b[38;5;132;01m{\u001b[39;00mstyle\u001b[38;5;132;01m}\u001b[39;00m\u001b[38;5;124m\"\u001b[39m\u001b[38;5;124m>\u001b[39m\u001b[38;5;132;01m{\u001b[39;00m\u001b[38;5;28;43mself\u001b[39;49m\u001b[38;5;241;43m.\u001b[39;49m\u001b[43m_cell_html\u001b[49m\u001b[43m(\u001b[49m\u001b[43mobj\u001b[49m\u001b[43m)\u001b[49m\u001b[38;5;132;01m}\u001b[39;00m\u001b[38;5;124m</td>\u001b[39m\u001b[38;5;124m'\u001b[39m\n",
      "File \u001b[0;32m~/techcs-236346/sw/verify/../../hw/base/presentation_forms.py:8\u001b[0m, in \u001b[0;36mtable_repr._cell_html\u001b[0;34m(self, obj)\u001b[0m\n\u001b[1;32m      6\u001b[0m \u001b[38;5;28;01mdef\u001b[39;00m \u001b[38;5;21m_cell_html\u001b[39m(\u001b[38;5;28mself\u001b[39m, obj):\n\u001b[1;32m      7\u001b[0m     \u001b[38;5;28;01mif\u001b[39;00m \u001b[38;5;28mhasattr\u001b[39m(obj, \u001b[38;5;124m'\u001b[39m\u001b[38;5;124m_repr_html_\u001b[39m\u001b[38;5;124m'\u001b[39m): \u001b[38;5;28;01mreturn\u001b[39;00m obj\u001b[38;5;241m.\u001b[39m_repr_html_()\n\u001b[0;32m----> 8\u001b[0m     \u001b[38;5;28;01mif\u001b[39;00m \u001b[38;5;28mhasattr\u001b[39m(obj, \u001b[38;5;124m'\u001b[39m\u001b[38;5;124m_repr_svg_\u001b[39m\u001b[38;5;124m'\u001b[39m): \u001b[38;5;28;01mreturn\u001b[39;00m \u001b[43mobj\u001b[49m\u001b[38;5;241;43m.\u001b[39;49m\u001b[43m_repr_svg_\u001b[49m\u001b[43m(\u001b[49m\u001b[43m)\u001b[49m\n\u001b[1;32m      9\u001b[0m     \u001b[38;5;28;01melse\u001b[39;00m: \u001b[38;5;28;01mreturn\u001b[39;00m \u001b[38;5;28mstr\u001b[39m(obj)\n",
      "File \u001b[0;32m~/venv/lib/python3.10/site-packages/graphviz/jupyter_integration.py:112\u001b[0m, in \u001b[0;36mJupyterIntegration._repr_image_svg_xml\u001b[0;34m(self)\u001b[0m\n\u001b[1;32m    110\u001b[0m \u001b[38;5;28;01mdef\u001b[39;00m \u001b[38;5;21m_repr_image_svg_xml\u001b[39m(\u001b[38;5;28mself\u001b[39m) \u001b[38;5;241m-\u001b[39m\u001b[38;5;241m>\u001b[39m \u001b[38;5;28mstr\u001b[39m:\n\u001b[1;32m    111\u001b[0m \u001b[38;5;250m    \u001b[39m\u001b[38;5;124;03m\"\"\"Return the rendered graph as SVG string.\"\"\"\u001b[39;00m\n\u001b[0;32m--> 112\u001b[0m     \u001b[38;5;28;01mreturn\u001b[39;00m \u001b[38;5;28;43mself\u001b[39;49m\u001b[38;5;241;43m.\u001b[39;49m\u001b[43mpipe\u001b[49m\u001b[43m(\u001b[49m\u001b[38;5;28;43mformat\u001b[39;49m\u001b[38;5;241;43m=\u001b[39;49m\u001b[38;5;124;43m'\u001b[39;49m\u001b[38;5;124;43msvg\u001b[39;49m\u001b[38;5;124;43m'\u001b[39;49m\u001b[43m,\u001b[49m\u001b[43m \u001b[49m\u001b[43mencoding\u001b[49m\u001b[38;5;241;43m=\u001b[39;49m\u001b[43mSVG_ENCODING\u001b[49m\u001b[43m)\u001b[49m\n",
      "File \u001b[0;32m~/venv/lib/python3.10/site-packages/graphviz/piping.py:104\u001b[0m, in \u001b[0;36mPipe.pipe\u001b[0;34m(self, format, renderer, formatter, neato_no_op, quiet, engine, encoding)\u001b[0m\n\u001b[1;32m     55\u001b[0m \u001b[38;5;28;01mdef\u001b[39;00m \u001b[38;5;21mpipe\u001b[39m(\u001b[38;5;28mself\u001b[39m,\n\u001b[1;32m     56\u001b[0m          \u001b[38;5;28mformat\u001b[39m: typing\u001b[38;5;241m.\u001b[39mOptional[\u001b[38;5;28mstr\u001b[39m] \u001b[38;5;241m=\u001b[39m \u001b[38;5;28;01mNone\u001b[39;00m,\n\u001b[1;32m     57\u001b[0m          renderer: typing\u001b[38;5;241m.\u001b[39mOptional[\u001b[38;5;28mstr\u001b[39m] \u001b[38;5;241m=\u001b[39m \u001b[38;5;28;01mNone\u001b[39;00m,\n\u001b[0;32m   (...)\u001b[0m\n\u001b[1;32m     61\u001b[0m          engine: typing\u001b[38;5;241m.\u001b[39mOptional[\u001b[38;5;28mstr\u001b[39m] \u001b[38;5;241m=\u001b[39m \u001b[38;5;28;01mNone\u001b[39;00m,\n\u001b[1;32m     62\u001b[0m          encoding: typing\u001b[38;5;241m.\u001b[39mOptional[\u001b[38;5;28mstr\u001b[39m] \u001b[38;5;241m=\u001b[39m \u001b[38;5;28;01mNone\u001b[39;00m) \u001b[38;5;241m-\u001b[39m\u001b[38;5;241m>\u001b[39m typing\u001b[38;5;241m.\u001b[39mUnion[\u001b[38;5;28mbytes\u001b[39m, \u001b[38;5;28mstr\u001b[39m]:\n\u001b[1;32m     63\u001b[0m \u001b[38;5;250m    \u001b[39m\u001b[38;5;124;03m\"\"\"Return the source piped through the Graphviz layout command.\u001b[39;00m\n\u001b[1;32m     64\u001b[0m \n\u001b[1;32m     65\u001b[0m \u001b[38;5;124;03m    Args:\u001b[39;00m\n\u001b[0;32m   (...)\u001b[0m\n\u001b[1;32m    102\u001b[0m \u001b[38;5;124;03m        '<?xml version='\u001b[39;00m\n\u001b[1;32m    103\u001b[0m \u001b[38;5;124;03m    \"\"\"\u001b[39;00m\n\u001b[0;32m--> 104\u001b[0m     \u001b[38;5;28;01mreturn\u001b[39;00m \u001b[38;5;28;43mself\u001b[39;49m\u001b[38;5;241;43m.\u001b[39;49m\u001b[43m_pipe_legacy\u001b[49m\u001b[43m(\u001b[49m\u001b[38;5;28;43mformat\u001b[39;49m\u001b[43m,\u001b[49m\n\u001b[1;32m    105\u001b[0m \u001b[43m                             \u001b[49m\u001b[43mrenderer\u001b[49m\u001b[38;5;241;43m=\u001b[39;49m\u001b[43mrenderer\u001b[49m\u001b[43m,\u001b[49m\n\u001b[1;32m    106\u001b[0m \u001b[43m                             \u001b[49m\u001b[43mformatter\u001b[49m\u001b[38;5;241;43m=\u001b[39;49m\u001b[43mformatter\u001b[49m\u001b[43m,\u001b[49m\n\u001b[1;32m    107\u001b[0m \u001b[43m                             \u001b[49m\u001b[43mneato_no_op\u001b[49m\u001b[38;5;241;43m=\u001b[39;49m\u001b[43mneato_no_op\u001b[49m\u001b[43m,\u001b[49m\n\u001b[1;32m    108\u001b[0m \u001b[43m                             \u001b[49m\u001b[43mquiet\u001b[49m\u001b[38;5;241;43m=\u001b[39;49m\u001b[43mquiet\u001b[49m\u001b[43m,\u001b[49m\n\u001b[1;32m    109\u001b[0m \u001b[43m                             \u001b[49m\u001b[43mengine\u001b[49m\u001b[38;5;241;43m=\u001b[39;49m\u001b[43mengine\u001b[49m\u001b[43m,\u001b[49m\n\u001b[1;32m    110\u001b[0m \u001b[43m                             \u001b[49m\u001b[43mencoding\u001b[49m\u001b[38;5;241;43m=\u001b[39;49m\u001b[43mencoding\u001b[49m\u001b[43m)\u001b[49m\n",
      "File \u001b[0;32m~/venv/lib/python3.10/site-packages/graphviz/_tools.py:171\u001b[0m, in \u001b[0;36mdeprecate_positional_args.<locals>.decorator.<locals>.wrapper\u001b[0;34m(*args, **kwargs)\u001b[0m\n\u001b[1;32m    162\u001b[0m     wanted \u001b[38;5;241m=\u001b[39m \u001b[38;5;124m'\u001b[39m\u001b[38;5;124m, \u001b[39m\u001b[38;5;124m'\u001b[39m\u001b[38;5;241m.\u001b[39mjoin(\u001b[38;5;124mf\u001b[39m\u001b[38;5;124m'\u001b[39m\u001b[38;5;132;01m{\u001b[39;00mname\u001b[38;5;132;01m}\u001b[39;00m\u001b[38;5;124m=\u001b[39m\u001b[38;5;132;01m{\u001b[39;00mvalue\u001b[38;5;132;01m!r}\u001b[39;00m\u001b[38;5;124m'\u001b[39m\n\u001b[1;32m    163\u001b[0m                        \u001b[38;5;28;01mfor\u001b[39;00m name, value \u001b[38;5;129;01min\u001b[39;00m deprecated\u001b[38;5;241m.\u001b[39mitems())\n\u001b[1;32m    164\u001b[0m     warnings\u001b[38;5;241m.\u001b[39mwarn(\u001b[38;5;124mf\u001b[39m\u001b[38;5;124m'\u001b[39m\u001b[38;5;124mThe signature of \u001b[39m\u001b[38;5;132;01m{\u001b[39;00mfunc\u001b[38;5;241m.\u001b[39m\u001b[38;5;18m__name__\u001b[39m\u001b[38;5;132;01m}\u001b[39;00m\u001b[38;5;124m will be reduced\u001b[39m\u001b[38;5;124m'\u001b[39m\n\u001b[1;32m    165\u001b[0m                   \u001b[38;5;124mf\u001b[39m\u001b[38;5;124m'\u001b[39m\u001b[38;5;124m to \u001b[39m\u001b[38;5;132;01m{\u001b[39;00msupported_number\u001b[38;5;132;01m}\u001b[39;00m\u001b[38;5;124m positional args\u001b[39m\u001b[38;5;124m'\u001b[39m\n\u001b[1;32m    166\u001b[0m                   \u001b[38;5;124mf\u001b[39m\u001b[38;5;124m'\u001b[39m\u001b[38;5;124m \u001b[39m\u001b[38;5;132;01m{\u001b[39;00m\u001b[38;5;28mlist\u001b[39m(supported)\u001b[38;5;132;01m}\u001b[39;00m\u001b[38;5;124m: pass \u001b[39m\u001b[38;5;132;01m{\u001b[39;00mwanted\u001b[38;5;132;01m}\u001b[39;00m\u001b[38;5;124m'\u001b[39m\n\u001b[1;32m    167\u001b[0m                   \u001b[38;5;124m'\u001b[39m\u001b[38;5;124m as keyword arg(s)\u001b[39m\u001b[38;5;124m'\u001b[39m,\n\u001b[1;32m    168\u001b[0m                   stacklevel\u001b[38;5;241m=\u001b[39mstacklevel,\n\u001b[1;32m    169\u001b[0m                   category\u001b[38;5;241m=\u001b[39mcategory)\n\u001b[0;32m--> 171\u001b[0m \u001b[38;5;28;01mreturn\u001b[39;00m \u001b[43mfunc\u001b[49m\u001b[43m(\u001b[49m\u001b[38;5;241;43m*\u001b[39;49m\u001b[43margs\u001b[49m\u001b[43m,\u001b[49m\u001b[43m \u001b[49m\u001b[38;5;241;43m*\u001b[39;49m\u001b[38;5;241;43m*\u001b[39;49m\u001b[43mkwargs\u001b[49m\u001b[43m)\u001b[49m\n",
      "File \u001b[0;32m~/venv/lib/python3.10/site-packages/graphviz/piping.py:121\u001b[0m, in \u001b[0;36mPipe._pipe_legacy\u001b[0;34m(self, format, renderer, formatter, neato_no_op, quiet, engine, encoding)\u001b[0m\n\u001b[1;32m    112\u001b[0m \u001b[38;5;129m@_tools\u001b[39m\u001b[38;5;241m.\u001b[39mdeprecate_positional_args(supported_number\u001b[38;5;241m=\u001b[39m\u001b[38;5;241m2\u001b[39m)\n\u001b[1;32m    113\u001b[0m \u001b[38;5;28;01mdef\u001b[39;00m \u001b[38;5;21m_pipe_legacy\u001b[39m(\u001b[38;5;28mself\u001b[39m,\n\u001b[1;32m    114\u001b[0m                  \u001b[38;5;28mformat\u001b[39m: typing\u001b[38;5;241m.\u001b[39mOptional[\u001b[38;5;28mstr\u001b[39m] \u001b[38;5;241m=\u001b[39m \u001b[38;5;28;01mNone\u001b[39;00m,\n\u001b[0;32m   (...)\u001b[0m\n\u001b[1;32m    119\u001b[0m                  engine: typing\u001b[38;5;241m.\u001b[39mOptional[\u001b[38;5;28mstr\u001b[39m] \u001b[38;5;241m=\u001b[39m \u001b[38;5;28;01mNone\u001b[39;00m,\n\u001b[1;32m    120\u001b[0m                  encoding: typing\u001b[38;5;241m.\u001b[39mOptional[\u001b[38;5;28mstr\u001b[39m] \u001b[38;5;241m=\u001b[39m \u001b[38;5;28;01mNone\u001b[39;00m) \u001b[38;5;241m-\u001b[39m\u001b[38;5;241m>\u001b[39m typing\u001b[38;5;241m.\u001b[39mUnion[\u001b[38;5;28mbytes\u001b[39m, \u001b[38;5;28mstr\u001b[39m]:\n\u001b[0;32m--> 121\u001b[0m     \u001b[38;5;28;01mreturn\u001b[39;00m \u001b[38;5;28;43mself\u001b[39;49m\u001b[38;5;241;43m.\u001b[39;49m\u001b[43m_pipe_future\u001b[49m\u001b[43m(\u001b[49m\u001b[38;5;28;43mformat\u001b[39;49m\u001b[43m,\u001b[49m\n\u001b[1;32m    122\u001b[0m \u001b[43m                             \u001b[49m\u001b[43mrenderer\u001b[49m\u001b[38;5;241;43m=\u001b[39;49m\u001b[43mrenderer\u001b[49m\u001b[43m,\u001b[49m\n\u001b[1;32m    123\u001b[0m \u001b[43m                             \u001b[49m\u001b[43mformatter\u001b[49m\u001b[38;5;241;43m=\u001b[39;49m\u001b[43mformatter\u001b[49m\u001b[43m,\u001b[49m\n\u001b[1;32m    124\u001b[0m \u001b[43m                             \u001b[49m\u001b[43mneato_no_op\u001b[49m\u001b[38;5;241;43m=\u001b[39;49m\u001b[43mneato_no_op\u001b[49m\u001b[43m,\u001b[49m\n\u001b[1;32m    125\u001b[0m \u001b[43m                             \u001b[49m\u001b[43mquiet\u001b[49m\u001b[38;5;241;43m=\u001b[39;49m\u001b[43mquiet\u001b[49m\u001b[43m,\u001b[49m\n\u001b[1;32m    126\u001b[0m \u001b[43m                             \u001b[49m\u001b[43mengine\u001b[49m\u001b[38;5;241;43m=\u001b[39;49m\u001b[43mengine\u001b[49m\u001b[43m,\u001b[49m\n\u001b[1;32m    127\u001b[0m \u001b[43m                             \u001b[49m\u001b[43mencoding\u001b[49m\u001b[38;5;241;43m=\u001b[39;49m\u001b[43mencoding\u001b[49m\u001b[43m)\u001b[49m\n",
      "File \u001b[0;32m~/venv/lib/python3.10/site-packages/graphviz/piping.py:149\u001b[0m, in \u001b[0;36mPipe._pipe_future\u001b[0;34m(self, format, renderer, formatter, neato_no_op, quiet, engine, encoding)\u001b[0m\n\u001b[1;32m    146\u001b[0m \u001b[38;5;28;01mif\u001b[39;00m encoding \u001b[38;5;129;01mis\u001b[39;00m \u001b[38;5;129;01mnot\u001b[39;00m \u001b[38;5;28;01mNone\u001b[39;00m:\n\u001b[1;32m    147\u001b[0m     \u001b[38;5;28;01mif\u001b[39;00m codecs\u001b[38;5;241m.\u001b[39mlookup(encoding) \u001b[38;5;129;01mis\u001b[39;00m codecs\u001b[38;5;241m.\u001b[39mlookup(\u001b[38;5;28mself\u001b[39m\u001b[38;5;241m.\u001b[39mencoding):\n\u001b[1;32m    148\u001b[0m         \u001b[38;5;66;03m# common case: both stdin and stdout need the same encoding\u001b[39;00m\n\u001b[0;32m--> 149\u001b[0m         \u001b[38;5;28;01mreturn\u001b[39;00m \u001b[38;5;28;43mself\u001b[39;49m\u001b[38;5;241;43m.\u001b[39;49m\u001b[43m_pipe_lines_string\u001b[49m\u001b[43m(\u001b[49m\u001b[38;5;241;43m*\u001b[39;49m\u001b[43margs\u001b[49m\u001b[43m,\u001b[49m\u001b[43m \u001b[49m\u001b[43mencoding\u001b[49m\u001b[38;5;241;43m=\u001b[39;49m\u001b[43mencoding\u001b[49m\u001b[43m,\u001b[49m\u001b[43m \u001b[49m\u001b[38;5;241;43m*\u001b[39;49m\u001b[38;5;241;43m*\u001b[39;49m\u001b[43mkwargs\u001b[49m\u001b[43m)\u001b[49m\n\u001b[1;32m    150\u001b[0m     \u001b[38;5;28;01mtry\u001b[39;00m:\n\u001b[1;32m    151\u001b[0m         raw \u001b[38;5;241m=\u001b[39m \u001b[38;5;28mself\u001b[39m\u001b[38;5;241m.\u001b[39m_pipe_lines(\u001b[38;5;241m*\u001b[39margs, input_encoding\u001b[38;5;241m=\u001b[39m\u001b[38;5;28mself\u001b[39m\u001b[38;5;241m.\u001b[39mencoding, \u001b[38;5;241m*\u001b[39m\u001b[38;5;241m*\u001b[39mkwargs)\n",
      "File \u001b[0;32m~/venv/lib/python3.10/site-packages/graphviz/backend/piping.py:212\u001b[0m, in \u001b[0;36mpipe_lines_string\u001b[0;34m(engine, format, input_lines, encoding, renderer, formatter, neato_no_op, quiet)\u001b[0m\n\u001b[1;32m    206\u001b[0m cmd \u001b[38;5;241m=\u001b[39m dot_command\u001b[38;5;241m.\u001b[39mcommand(engine, \u001b[38;5;28mformat\u001b[39m,\n\u001b[1;32m    207\u001b[0m                           renderer\u001b[38;5;241m=\u001b[39mrenderer,\n\u001b[1;32m    208\u001b[0m                           formatter\u001b[38;5;241m=\u001b[39mformatter,\n\u001b[1;32m    209\u001b[0m                           neato_no_op\u001b[38;5;241m=\u001b[39mneato_no_op)\n\u001b[1;32m    210\u001b[0m kwargs \u001b[38;5;241m=\u001b[39m {\u001b[38;5;124m'\u001b[39m\u001b[38;5;124minput_lines\u001b[39m\u001b[38;5;124m'\u001b[39m: input_lines, \u001b[38;5;124m'\u001b[39m\u001b[38;5;124mencoding\u001b[39m\u001b[38;5;124m'\u001b[39m: encoding}\n\u001b[0;32m--> 212\u001b[0m proc \u001b[38;5;241m=\u001b[39m \u001b[43mexecute\u001b[49m\u001b[38;5;241;43m.\u001b[39;49m\u001b[43mrun_check\u001b[49m\u001b[43m(\u001b[49m\u001b[43mcmd\u001b[49m\u001b[43m,\u001b[49m\u001b[43m \u001b[49m\u001b[43mcapture_output\u001b[49m\u001b[38;5;241;43m=\u001b[39;49m\u001b[38;5;28;43;01mTrue\u001b[39;49;00m\u001b[43m,\u001b[49m\u001b[43m \u001b[49m\u001b[43mquiet\u001b[49m\u001b[38;5;241;43m=\u001b[39;49m\u001b[43mquiet\u001b[49m\u001b[43m,\u001b[49m\u001b[43m \u001b[49m\u001b[38;5;241;43m*\u001b[39;49m\u001b[38;5;241;43m*\u001b[39;49m\u001b[43mkwargs\u001b[49m\u001b[43m)\u001b[49m\n\u001b[1;32m    213\u001b[0m \u001b[38;5;28;01mreturn\u001b[39;00m proc\u001b[38;5;241m.\u001b[39mstdout\n",
      "File \u001b[0;32m~/venv/lib/python3.10/site-packages/graphviz/backend/execute.py:84\u001b[0m, in \u001b[0;36mrun_check\u001b[0;34m(cmd, input_lines, encoding, quiet, **kwargs)\u001b[0m\n\u001b[1;32m     82\u001b[0m \u001b[38;5;28;01mexcept\u001b[39;00m \u001b[38;5;167;01mOSError\u001b[39;00m \u001b[38;5;28;01mas\u001b[39;00m e:\n\u001b[1;32m     83\u001b[0m     \u001b[38;5;28;01mif\u001b[39;00m e\u001b[38;5;241m.\u001b[39merrno \u001b[38;5;241m==\u001b[39m errno\u001b[38;5;241m.\u001b[39mENOENT:\n\u001b[0;32m---> 84\u001b[0m         \u001b[38;5;28;01mraise\u001b[39;00m ExecutableNotFound(cmd) \u001b[38;5;28;01mfrom\u001b[39;00m \u001b[38;5;21;01me\u001b[39;00m\n\u001b[1;32m     85\u001b[0m     \u001b[38;5;28;01mraise\u001b[39;00m\n\u001b[1;32m     87\u001b[0m \u001b[38;5;28;01mif\u001b[39;00m \u001b[38;5;129;01mnot\u001b[39;00m quiet \u001b[38;5;129;01mand\u001b[39;00m proc\u001b[38;5;241m.\u001b[39mstderr:\n",
      "\u001b[0;31mExecutableNotFound\u001b[0m: failed to execute PosixPath('dot'), make sure the Graphviz executables are on your systems' PATH"
     ]
    },
    {
     "data": {
      "text/plain": [
       "<presentation_forms.table_repr at 0x7fa3244b1e10>"
      ]
     },
     "execution_count": 25,
     "metadata": {},
     "output_type": "execute_result"
    }
   ],
   "source": [
    "HyperResolutionProof(s.proof()).to_roadmap()    if res == unsat else s.model()"
   ]
  },
  {
   "cell_type": "markdown",
   "id": "128ed35d-1ab9-4f8d-ae65-b2b7dc470b68",
   "metadata": {},
   "source": [
    "### Exercise\n",
    "Modify some nit in the CHCs for the program above, simulating a buggy program. The result should be `unsat`. Generate the trace with the `HyperResolutionProof` shown above (which is like we did in hardware model checking).\n",
    "Try to uncomment the lines setting the flags `xform.inline_eager` and `xform.inline_linear`, disabling some of Spacer's preprocessing optimizations, in order to get a fuller trace.\n",
    "If you are getting large values for `sp` (_e.g._ 21353), add a constraint somewhere that delimits its range for, say, 0..10."
   ]
  },
  {
   "cell_type": "code",
   "execution_count": null,
   "id": "1cdbdec9-0ce0-4594-81be-fcb09c60e59d",
   "metadata": {},
   "outputs": [],
   "source": []
  }
 ],
 "metadata": {
  "kernelspec": {
   "display_name": "Python 3 (ipykernel)",
   "language": "python",
   "name": "python3"
  },
  "language_info": {
   "codemirror_mode": {
    "name": "ipython",
    "version": 3
   },
   "file_extension": ".py",
   "mimetype": "text/x-python",
   "name": "python",
   "nbconvert_exporter": "python",
   "pygments_lexer": "ipython3",
   "version": "3.10.12"
  }
 },
 "nbformat": 4,
 "nbformat_minor": 5
}
