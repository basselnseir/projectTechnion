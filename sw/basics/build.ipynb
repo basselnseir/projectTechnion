{
 "cells": [
  {
   "cell_type": "code",
   "execution_count": 1,
   "id": "92d8c0f2-60de-413d-9546-5f00c8f971a7",
   "metadata": {},
   "outputs": [],
   "source": [
    "import sys\n",
    "sys.path.append('../../hw/cpu')"
   ]
  },
  {
   "cell_type": "code",
   "execution_count": 2,
   "id": "13ad08bf-c5b6-4d6a-8583-6a534717ba38",
   "metadata": {},
   "outputs": [],
   "source": [
    "from assembler import asm, disasm, disasm_pretty"
   ]
  },
  {
   "cell_type": "code",
   "execution_count": 3,
   "id": "5dffde64-dcfb-4a21-a3d7-5b6f3ebba72b",
   "metadata": {},
   "outputs": [],
   "source": [
    "from toy_progs import BLOCKS"
   ]
  },
  {
   "cell_type": "code",
   "execution_count": 4,
   "id": "f8c8ce01-e5e7-46cd-b7eb-95f55c3af8c1",
   "metadata": {},
   "outputs": [],
   "source": [
    "a = asm(BLOCKS, start_addr=0x5400)\n",
    "a.save_bin('blocks.bin')"
   ]
  },
  {
   "cell_type": "code",
   "execution_count": 5,
   "id": "847918ac-c673-4bcd-843f-5aaf0dfabca8",
   "metadata": {},
   "outputs": [
    {
     "name": "stdout",
     "output_type": "stream",
     "text": [
      "5401 _main_loop\n",
      "540b _main_ret1\n",
      "5410 _main_ret2\n",
      "5411 exit\n",
      "5412 draw_block\n",
      "541f _draw_block_ret1\n",
      "5422 draw_block_lowlevel\n",
      "5422 _draw_block_lowlevel:loop\n",
      "5438 _draw_block_lowlevel:exit\n",
      "543b wait\n",
      "543e _wait:loop\n",
      "5449 busy_wait\n",
      "5449 _busy_wait:loop\n",
      "5453 _busy_wait:exit\n"
     ]
    }
   ],
   "source": [
    "# Display label addresses\n",
    "for k, v in a.label_addrs.items():\n",
    "    print(\"%04x %s\" % (v, k))"
   ]
  },
  {
   "cell_type": "code",
   "execution_count": 6,
   "id": "0824ff0a-2b6a-4cf8-ba18-51778ab0f0f9",
   "metadata": {},
   "outputs": [
    {
     "name": "stdout",
     "output_type": "stream",
     "text": [
      "5400 PUSH f\n",
      "5401 PUSH 0\n",
      "5402 DUP 1\n",
      "5403 POP 2\n",
      "5404 ALU c\n",
      "5405 POP 1\n",
      "5406 JZ 5411\n",
      "5407 PUSH 540b\n",
      "5408 DUP 1\n",
      "5409 PUSH 3\n",
      "540a JMP 5412\n",
      "540b PUSH 1\n",
      "540c POP 2\n",
      "540d ALU 2\n",
      "540e PUSH 5410\n",
      "540f JMP 543b\n",
      "5410 JMP 5401\n",
      "5411 HALT 0\n",
      "5412 PUSH 541f\n",
      "5413 DUP 2\n",
      "5414 DUP 2\n",
      "5415 PUSH 7\n",
      "5416 POP 2\n",
      "5417 ALU 5\n",
      "5418 POP 2\n",
      "5419 ALU 1\n",
      "541a PUSH a000\n",
      "541b POP 2\n",
      "541c ALU 1\n",
      "541d PUSH 8\n",
      "541e JMP 5422\n",
      "541f POP 2\n",
      "5420 POP 1\n",
      "5421 RET 0\n",
      "5422 PUSH 0\n",
      "5423 DUP 1\n",
      "5424 POP 2\n",
      "5425 ALU c\n",
      "5426 POP 1\n",
      "5427 JZ 5438\n",
      "5428 DUP 0\n",
      "5429 PUSH 4\n",
      "542a POP 2\n",
      "542b ALU 5\n",
      "542c DUP 2\n",
      "542d POP 2\n",
      "542e ALU 1\n",
      "542f PUSH ff\n",
      "5430 DUP 1\n",
      "5431 POP 2\n",
      "5432 STOR 0\n",
      "5433 POP 1\n",
      "5434 PUSH 1\n",
      "5435 POP 2\n",
      "5436 ALU 2\n",
      "5437 JMP 5422\n",
      "5438 POP 2\n",
      "5439 POP 1\n",
      "543a RET 0\n",
      "543b PUSH c000\n",
      "543c POP 1\n",
      "543d LOAD 0\n",
      "543e PUSH c000\n",
      "543f POP 1\n",
      "5440 LOAD 0\n",
      "5441 DUP 1\n",
      "5442 POP 2\n",
      "5443 ALU 2\n",
      "5444 POP 1\n",
      "5445 JZ 543e\n",
      "5446 POP 1\n",
      "5447 POP 1\n",
      "5448 RET 0\n",
      "5449 PUSH 0\n",
      "544a DUP 1\n",
      "544b POP 2\n",
      "544c ALU c\n",
      "544d POP 1\n",
      "544e JZ 5453\n",
      "544f PUSH 1\n",
      "5450 POP 2\n",
      "5451 ALU 2\n",
      "5452 JMP 5449\n",
      "5453 POP 1\n",
      "5454 POP 1\n",
      "5455 RET 0\n"
     ]
    }
   ],
   "source": [
    "# Disassemble and pretty-print instructions\n",
    "disasm_pretty(open('blocks.bin','rb').read(), start_addr=0x5400)"
   ]
  }
 ],
 "metadata": {
  "kernelspec": {
   "display_name": "Python 3 (ipykernel)",
   "language": "python",
   "name": "python3"
  },
  "language_info": {
   "codemirror_mode": {
    "name": "ipython",
    "version": 3
   },
   "file_extension": ".py",
   "mimetype": "text/x-python",
   "name": "python",
   "nbconvert_exporter": "python",
   "pygments_lexer": "ipython3",
   "version": "3.10.10"
  }
 },
 "nbformat": 4,
 "nbformat_minor": 5
}
